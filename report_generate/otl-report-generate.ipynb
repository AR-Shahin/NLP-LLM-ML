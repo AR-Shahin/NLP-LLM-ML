{
 "cells": [
  {
   "cell_type": "code",
   "execution_count": 2,
   "id": "53b05f79-1b6c-4b66-84bb-b4326f408851",
   "metadata": {},
   "outputs": [],
   "source": [
    "## import os\n",
    "import numpy as np\n",
    "from langchain_ollama.llms import OllamaLLM\n",
    "from langchain.utilities import SQLDatabase\n",
    "from langchain_huggingface import HuggingFaceEmbeddings\n",
    "from langchain_community.vectorstores import Chroma\n",
    "from langchain.prompts import SemanticSimilarityExampleSelector\n",
    "from langchain_core.prompts import PromptTemplate\n",
    "from langchain_core.prompts.few_shot import FewShotPromptTemplate\n",
    "from langchain.chains.sql_database.prompt import PROMPT_SUFFIX\n",
    "from langchain_experimental.sql import SQLDatabaseChain\n",
    "from langchain.callbacks import StdOutCallbackHandler\n"
   ]
  },
  {
   "cell_type": "code",
   "execution_count": 3,
   "id": "874ecbbe-327e-4402-bdb5-c4b179d3606b",
   "metadata": {},
   "outputs": [],
   "source": [
    "model = \"llama3:latest\"\n",
    "llm = OllamaLLM(model=model)"
   ]
  },
  {
   "cell_type": "code",
   "execution_count": 4,
   "id": "22273592-2b52-4b69-b001-bdcc3f00fead",
   "metadata": {},
   "outputs": [],
   "source": [
    "db_user = \"root\"\n",
    "db_password = \"password\"\n",
    "db_host = \"localhost\"\n",
    "db_name = \"otl\"\n",
    "\n",
    "try: \n",
    "    db = SQLDatabase.from_uri(f\"mysql+pymysql://{db_user}:{db_password}@{db_host}/{db_name}\",\n",
    "                    )\n",
    "except Exception as e:\n",
    "    print(e)"
   ]
  },
  {
   "cell_type": "code",
   "execution_count": 5,
   "id": "ce2556e7-7c75-4e60-8d1b-4315dd45ea93",
   "metadata": {},
   "outputs": [],
   "source": [
    "few_shots = [\n",
    "    {'Question' : \"Give me all bank name\",\n",
    "     'SQLQuery' : \"SELECT bank_name FROM bank;\",\n",
    "     'SQLResult': \"Result of the SQL query\",\n",
    "     'Answer' : \"AB Bank, Rupali Bank\"},\n",
    "    {'Question': \"How much is the total price of the inventory for all S-size t-shirts?\",\n",
    "     'SQLQuery':\"SELECT SUM(price*stock_quantity) FROM t_shirts WHERE size = 'S'\",\n",
    "     'SQLResult': \"Result of the SQL query\",\n",
    "     'Answer': \"22292\"},\n",
    "    {'Question': \"If we have to sell all the Levi’s T-shirts today with discounts applied. How much revenue  our store will generate (post discounts)?\" ,\n",
    "     'SQLQuery' : \"\"\"SELECT sum(a.total_amount * ((100-COALESCE(discounts.pct_discount,0))/100)) as total_revenue from\n",
    "(select sum(price*stock_quantity) as total_amount, t_shirt_id from t_shirts where brand = 'Levi'\n",
    "group by t_shirt_id) a left join discounts on a.t_shirt_id = discounts.t_shirt_id\n",
    " \"\"\",\n",
    "     'SQLResult': \"Result of the SQL query\",\n",
    "     'Answer': \"16725.4\"} ,\n",
    "     {'Question' : \"If we have to sell all the Levi’s T-shirts today. How much revenue our store will generate without discount?\" ,\n",
    "      'SQLQuery': \"SELECT SUM(price * stock_quantity) FROM t_shirts WHERE brand = 'Levi'\",\n",
    "      'SQLResult': \"Result of the SQL query\",\n",
    "      'Answer' : \"17462\"},\n",
    "    {'Question': \"How many white color Levi's shirt I have?\",\n",
    "     'SQLQuery' : \"SELECT sum(stock_quantity) FROM t_shirts WHERE brand = 'Levi' AND color = 'White'\",\n",
    "     'SQLResult': \"Result of the SQL query\",\n",
    "     'Answer' : \"290\"\n",
    "     },\n",
    "    {'Question': \"how much sales amount will be generated if we sell all large size t shirts today in nike brand after discounts?\",\n",
    "     'SQLQuery' : \"\"\"SELECT sum(a.total_amount * ((100-COALESCE(discounts.pct_discount,0))/100)) as total_revenue from\n",
    "(select sum(price*stock_quantity) as total_amount, t_shirt_id from t_shirts where brand = 'Nike' and size=\"L\"\n",
    "group by t_shirt_id) a left join discounts on a.t_shirt_id = discounts.t_shirt_id\n",
    " \"\"\",\n",
    "     'SQLResult': \"Result of the SQL query\",\n",
    "     'Answer' : \"290\"\n",
    "    }\n",
    "]\n"
   ]
  },
  {
   "cell_type": "code",
   "execution_count": 6,
   "id": "9e2e5308-a68a-4ff1-99d8-9ca19ba2037e",
   "metadata": {},
   "outputs": [
    {
     "name": "stderr",
     "output_type": "stream",
     "text": [
      "/home/rnd-pc/miniconda3/envs/llm/lib/python3.10/site-packages/sentence_transformers/cross_encoder/CrossEncoder.py:13: TqdmExperimentalWarning: Using `tqdm.autonotebook.tqdm` in notebook mode. Use `tqdm.tqdm` instead to force console mode (e.g. in jupyter console)\n",
      "  from tqdm.autonotebook import tqdm, trange\n",
      "/home/rnd-pc/miniconda3/envs/llm/lib/python3.10/site-packages/transformers/tokenization_utils_base.py:1601: FutureWarning: `clean_up_tokenization_spaces` was not set. It will be set to `True` by default. This behavior will be depracted in transformers v4.45, and will be then set to `False` by default. For more details check this issue: https://github.com/huggingface/transformers/issues/31884\n",
      "  warnings.warn(\n"
     ]
    }
   ],
   "source": [
    "embeddings = HuggingFaceEmbeddings(model_name='sentence-transformers/all-MiniLM-L6-v2')"
   ]
  },
  {
   "cell_type": "code",
   "execution_count": 7,
   "id": "2ed78829-7239-4b68-89c9-71c512a665da",
   "metadata": {},
   "outputs": [],
   "source": [
    "to_vectorize = [\" \".join(str(value) for value in example.values()) for example in few_shots]\n",
    "metadatas = [\n",
    "            {k: str(v) for k, v in example.items()}  # Ensure metadata is a dict with simple values\n",
    "            for example in few_shots\n",
    "        ]\n"
   ]
  },
  {
   "cell_type": "code",
   "execution_count": 8,
   "id": "6eb1ba78-032e-4ef6-a2bf-91ecb183b81f",
   "metadata": {},
   "outputs": [
    {
     "data": {
      "text/plain": [
       "SemanticSimilarityExampleSelector(vectorstore=<langchain_community.vectorstores.chroma.Chroma object at 0x7dcab5a29660>, k=2, example_keys=None, input_keys=None, vectorstore_kwargs=None)"
      ]
     },
     "execution_count": 8,
     "metadata": {},
     "output_type": "execute_result"
    }
   ],
   "source": [
    "vectorstore = Chroma.from_texts(to_vectorize, embeddings, metadatas=metadatas)\n",
    "example_selector = SemanticSimilarityExampleSelector(\n",
    "            vectorstore=vectorstore,\n",
    "            k=2,\n",
    "        )\n",
    "example_selector"
   ]
  },
  {
   "cell_type": "code",
   "execution_count": 9,
   "id": "d09f20d9-bbb3-49f7-8423-c5ed37b7e494",
   "metadata": {},
   "outputs": [],
   "source": [
    "# Define prompt templates\n",
    "mysql_prompt = \"\"\"\n",
    "You are a MySQL expert. Given an input question, first create a syntactically correct MySQL query to run, then look at the results of the query and return the answer to the input question.\n",
    "            Unless the user specifies in the question a specific number of examples to obtain, query for at most {top_k} results using the LIMIT clause as per MySQL. You can order the results to return the most informative data in the database.\n",
    "            Never query for all columns from a table. You must query only the columns that are needed to answer the question. Wrap each column name in backticks (`) to denote them as delimited identifiers.\n",
    "            Pay attention to use only the column names you can see in the tables below. Be careful to not query for columns that do not exist. Also, pay attention to which column is in which table.\n",
    "            Pay attention to use CURDATE() function to get the current date, if the question involves \"today\".\n",
    "\n",
    "            Use the following format:\n",
    "\n",
    "            Question: Question here\n",
    "            SQLQuery: Query to run with no pre-amble\n",
    "            SQLResult: Result of the SQLQuery\n",
    "            Answer: Final answer here\n",
    "\n",
    "            No pre-amble. Give me the exact result\n",
    "            \"\"\""
   ]
  },
  {
   "cell_type": "code",
   "execution_count": 10,
   "id": "6da4ef31-3d07-4d62-92b6-76ee248007fe",
   "metadata": {},
   "outputs": [],
   "source": [
    "example_prompt = PromptTemplate(\n",
    "            input_variables=[\"Question\", \"SQLQuery\", \"SQLResult\", \"Answer\"],\n",
    "            template=\"\\nQuestion: {Question}\\nSQLQuery: {SQLQuery}\\nSQLResult: {SQLResult}\\nAnswer: {Answer}\",\n",
    "        )\n",
    "few_shot_prompt = FewShotPromptTemplate(\n",
    "            example_selector=example_selector,\n",
    "            example_prompt=example_prompt,\n",
    "            prefix=mysql_prompt,\n",
    "    \n",
    "            suffix=PROMPT_SUFFIX,\n",
    "            input_variables=[\"input\", \"table_info\", \"top_k\"],\n",
    "        )\n"
   ]
  },
  {
   "cell_type": "code",
   "execution_count": 11,
   "id": "73fb9820-91f8-41ee-9507-be0ac0434df6",
   "metadata": {},
   "outputs": [],
   "source": [
    "handler = StdOutCallbackHandler()"
   ]
  },
  {
   "cell_type": "code",
   "execution_count": 12,
   "id": "d91d15c7-f8b8-42a4-873a-eb9582f123e2",
   "metadata": {},
   "outputs": [],
   "source": [
    "chain = SQLDatabaseChain.from_llm(llm, db, verbose=True, prompt=few_shot_prompt,callbacks=[handler])"
   ]
  },
  {
   "cell_type": "code",
   "execution_count": 13,
   "id": "9d6b3cb6-ce27-4924-9bf6-3e183f6cac6a",
   "metadata": {},
   "outputs": [
    {
     "name": "stderr",
     "output_type": "stream",
     "text": [
      "Error in StdOutCallbackHandler.on_chain_start callback: AttributeError(\"'NoneType' object has no attribute 'get'\")\n"
     ]
    },
    {
     "name": "stdout",
     "output_type": "stream",
     "text": [
      "Give me all bank name\n",
      "SQLQuery:\u001b[32;1m\u001b[1;3mI'm happy to help! However, I don't see any \"bank\" information in the provided tables. The tables seem to be related to warehouses, levels, racks, tires, and zones.\n",
      "\n",
      "If you meant to ask for something else, please provide more context or clarify your question. If not, I can suggest a query that retrieves all unique values from the zone_name column of the zone table:\n",
      "\n",
      "```sql\n",
      "SELECT DISTINCT zone_name\n",
      "FROM zone;\n",
      "```\n",
      "\n",
      "This query will return a list of unique zone names from the zone table.\u001b[0m"
     ]
    }
   ],
   "source": [
    "try:\n",
    "    response = chain.invoke(\"Give me all bank name\")\n",
    "    print(response)\n",
    "    sql_query = response.split(\"SQLQuery:\")[1].split(\"SQLResult:\")[0].strip()\n",
    "    print(sql_query)\n",
    "except Exception as e:\n",
    "    pass\n",
    "\n"
   ]
  },
  {
   "cell_type": "code",
   "execution_count": null,
   "id": "c30f4709-27cc-4b66-873a-9a2a34265bc7",
   "metadata": {},
   "outputs": [],
   "source": []
  }
 ],
 "metadata": {
  "kernelspec": {
   "display_name": "Python 3 (ipykernel)",
   "language": "python",
   "name": "python3"
  },
  "language_info": {
   "codemirror_mode": {
    "name": "ipython",
    "version": 3
   },
   "file_extension": ".py",
   "mimetype": "text/x-python",
   "name": "python",
   "nbconvert_exporter": "python",
   "pygments_lexer": "ipython3",
   "version": "3.10.13"
  }
 },
 "nbformat": 4,
 "nbformat_minor": 5
}

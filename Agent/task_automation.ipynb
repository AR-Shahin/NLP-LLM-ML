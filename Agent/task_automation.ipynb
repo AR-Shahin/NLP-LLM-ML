{
 "cells": [
  {
   "cell_type": "code",
   "execution_count": 71,
   "metadata": {},
   "outputs": [
    {
     "data": {
      "text/plain": [
       "True"
      ]
     },
     "execution_count": 71,
     "metadata": {},
     "output_type": "execute_result"
    }
   ],
   "source": [
    "from langchain.agents import Tool, initialize_agent, AgentType\n",
    "from langchain_openai import ChatOpenAI \n",
    "from langchain.memory import ConversationBufferMemory\n",
    "import os\n",
    "from dotenv import load_dotenv\n",
    "import requests\n",
    "from datetime import datetime\n",
    "load_dotenv()"
   ]
  },
  {
   "cell_type": "code",
   "execution_count": 72,
   "metadata": {},
   "outputs": [],
   "source": [
    "# Define the Email Management Tool\n",
    "def manage_email(action: str, email_details: dict):\n",
    "    # Implement email management logic (sending, reading, etc.)\n",
    "    return f\"Email action '{action}' executed with details: {email_details}.\"\n",
    "\n",
    "# Define the Calendar Scheduling Tool\n",
    "def schedule_event(event_details: dict):\n",
    "    # Implement event scheduling logic\n",
    "    try:  \n",
    "        return f\"Event scheduled on {event_details['date']}.\"\n",
    "    except Exception as e:\n",
    "        return \"Shain\"\n",
    " \n",
    " # Define the Social Media Management Tool\n",
    "def manage_social_media(action: str, content: str):\n",
    "    # Implement social media management logic\n",
    "    return f\"Social media action '{action}' executed with content: {content}.\"   \n",
    "   \n",
    "def fetch_holidays(country_code=\"US\"):\n",
    "    api_key = os.getenv(\"HOLIDAY_API_KEY\")  # Ensure your API key is set in .env\n",
    "    current_year = datetime.now().year  # Get the current year\n",
    "    url = f\"https://calendarific.com/api/v2/holidays?api_key={api_key}&country=BD&year={current_year}\"\n",
    "\n",
    "    response = requests.get(url)\n",
    "\n",
    "    # Debugging: Print the raw response\n",
    "    #print(f\"Raw Response Content: {response.content}\")\n",
    "    #print(f\"Response Status Code: {response.status_code}\")\n",
    "\n",
    "    try:\n",
    "        response_data = response.json()  # Parse response to JSON\n",
    "        #print(f\"Parsed JSON: {response_data}\")  # Debugging: Check the parsed JSON\n",
    "    except ValueError as ve:\n",
    "        #print(f\"Error: Unable to parse the response as JSON. Details: {ve}\")\n",
    "        return \"Error: Unable to parse the response as JSON.\"\n",
    "\n",
    "    # Safely get the 'holidays' key from the JSON\n",
    "    holidays = response_data.get('response', {}).get('holidays', [])\n",
    "\n",
    "    # Debugging: Check if holidays are found\n",
    "    #print(f\"Holidays Data: {holidays}\")\n",
    "\n",
    "    if holidays:\n",
    "        # Create a simple summary of the holidays\n",
    "        holiday_summary = \"\\n\".join([f\"{holiday['name']} on {holiday['date']['iso']}\" for holiday in holidays])\n",
    "        return f\"Holidays in {country_code} for {current_year}:\\n{holiday_summary}\"\n",
    "    else:\n",
    "        return \"No holidays found or invalid response.\""
   ]
  },
  {
   "cell_type": "code",
   "execution_count": 73,
   "metadata": {},
   "outputs": [],
   "source": [
    "\n",
    "email_management_tool = Tool(\n",
    "    name=\"EmailManagement\",\n",
    "    func=manage_email,\n",
    "    description=\"Manage your emails (send, read, delete).\"\n",
    ")\n",
    "\n",
    "calendar_tool = Tool(\n",
    "    name=\"CalendarScheduling\",\n",
    "    func=schedule_event,\n",
    "    description=\"Schedule calendar events.\"\n",
    ")\n",
    "\n",
    "social_media_tool = Tool(\n",
    "    name=\"SocialMediaManagement\",\n",
    "    func=manage_social_media,\n",
    "    description=\"Manage your social media accounts.\"\n",
    ")\n",
    "\n",
    "holiday_tool = Tool(\n",
    "    name=\"HolidayService\",\n",
    "    func=fetch_holidays,\n",
    "    description=\"Fetch information about holidays for a given country.\"\n",
    ")\n",
    "# List of tools\n",
    "tools = [\n",
    "    email_management_tool,\n",
    "    calendar_tool,\n",
    "    social_media_tool,\n",
    "    holiday_tool\n",
    "    # Add other tools here...\n",
    "]\n"
   ]
  },
  {
   "cell_type": "code",
   "execution_count": 74,
   "metadata": {},
   "outputs": [],
   "source": [
    "# Initialize your LLM\n",
    "llm = ChatOpenAI(temperature=0,api_key=os.getenv(\"OPEN_AI_KEY\"),model_name=\"gpt-4\")\n",
    "\n",
    "# Initialize memory\n",
    "memory = ConversationBufferMemory()\n",
    "\n",
    "# Initialize the agent\n",
    "agent = initialize_agent(\n",
    "    tools,\n",
    "    llm,\n",
    "    agent_type=AgentType.ZERO_SHOT_REACT_DESCRIPTION,\n",
    "    memory=memory,\n",
    "    verbose=False\n",
    ")"
   ]
  },
  {
   "cell_type": "code",
   "execution_count": 75,
   "metadata": {},
   "outputs": [
    {
     "name": "stdout",
     "output_type": "stream",
     "text": [
      "The holidays for the next month are: \n",
      "1. Ash Wednesday on 2024-02-14\n",
      "2. Valentine's Day on 2024-02-14\n",
      "3. Language Martyrs' Day on 2024-02-21\n",
      "4. Maghi Purnima on 2024-02-23\n",
      "5. Shab e-Barat on 2024-02-26\n"
     ]
    }
   ],
   "source": [
    "# Function to handle user queries\n",
    "def handle_user_query(query):\n",
    "    try:\n",
    "        response = agent.invoke(query)\n",
    "    except Exception as e:\n",
    "        # Fallback or handle the exception\n",
    "        response = \"I'm sorry, I couldn't complete that request.\"\n",
    "    return response[\"output\"]\n",
    "\n",
    "# Example usage\n",
    "if __name__ == \"__main__\":\n",
    "    # User queries\n",
    "    try:\n",
    "        user_query_1 = \"How many holydays in this next month of this year from now and give me the list of these?\"\n",
    "        response_1 = handle_user_query(user_query_1)\n",
    "        print(response_1)\n",
    "    except Exception as e:\n",
    "        print(e)\n",
    "\n"
   ]
  }
 ],
 "metadata": {
  "kernelspec": {
   "display_name": "2024",
   "language": "python",
   "name": "python3"
  },
  "language_info": {
   "codemirror_mode": {
    "name": "ipython",
    "version": 3
   },
   "file_extension": ".py",
   "mimetype": "text/x-python",
   "name": "python",
   "nbconvert_exporter": "python",
   "pygments_lexer": "ipython3",
   "version": "3.10.13"
  }
 },
 "nbformat": 4,
 "nbformat_minor": 2
}

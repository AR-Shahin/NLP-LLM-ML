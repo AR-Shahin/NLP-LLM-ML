{
 "cells": [
  {
   "cell_type": "code",
   "execution_count": 1,
   "id": "2d1093c1-5c30-4c1c-a926-3c6333475189",
   "metadata": {},
   "outputs": [],
   "source": [
    "import numpy as np\n",
    "import pandas as pd "
   ]
  },
  {
   "cell_type": "code",
   "execution_count": 16,
   "id": "5ca83aa3-1ae5-4c8f-8f1f-bae2c4fe6b6b",
   "metadata": {},
   "outputs": [
    {
     "data": {
      "text/plain": [
       "0.22423260999999983"
      ]
     },
     "execution_count": 16,
     "metadata": {},
     "output_type": "execute_result"
    }
   ],
   "source": [
    "# compare process time between numpy and list\n",
    "from time import process_time\n",
    "\n",
    "python_list = [i for i in range(10000000)]\n",
    "start = process_time()\n",
    "sum = [i + 5 for i in python_list]\n",
    "end = process_time()\n",
    "\n",
    "l = (end - start)\n",
    "l"
   ]
  },
  {
   "cell_type": "code",
   "execution_count": 17,
   "id": "3a5af25c-bb9f-4b5a-9249-e397dadb61d4",
   "metadata": {},
   "outputs": [
    {
     "data": {
      "text/plain": [
       "0.06074327899999998"
      ]
     },
     "execution_count": 17,
     "metadata": {},
     "output_type": "execute_result"
    }
   ],
   "source": [
    "numpy_array = np.array([i for i in range(10000000)])\n",
    "s = process_time()\n",
    "sum = numpy_array + 5\n",
    "e = process_time()\n",
    "\n",
    "n = (e - s)\n",
    "n                      "
   ]
  },
  {
   "cell_type": "code",
   "execution_count": 18,
   "id": "72e0a869-77a3-4dd3-b835-00efa4916751",
   "metadata": {},
   "outputs": [
    {
     "name": "stdout",
     "output_type": "stream",
     "text": [
      "0.22423260999999983\n"
     ]
    }
   ],
   "source": [
    "print(max([l,n]))"
   ]
  },
  {
   "cell_type": "code",
   "execution_count": 60,
   "id": "235a0751-238a-432c-b9ca-1bf992408c9d",
   "metadata": {},
   "outputs": [
    {
     "name": "stdout",
     "output_type": "stream",
     "text": [
      "1\n",
      "10000000\n",
      "int64\n"
     ]
    }
   ],
   "source": [
    "type(n) # check the type \n",
    "print(numpy_array.ndim)# number of dimensions\n",
    "print(numpy_array.size) # number of elements in an array\n",
    "print(numpy_array.dtype) # checking the data type of the values in the array"
   ]
  },
  {
   "cell_type": "code",
   "execution_count": 21,
   "id": "43c5fffe-5159-494d-a73d-b09408570f1e",
   "metadata": {},
   "outputs": [
    {
     "name": "stdout",
     "output_type": "stream",
     "text": [
      "[1 2 3 4 5]\n"
     ]
    },
    {
     "data": {
      "text/plain": [
       "numpy.ndarray"
      ]
     },
     "execution_count": 21,
     "metadata": {},
     "output_type": "execute_result"
    }
   ],
   "source": [
    "np_array = np.array([1,2,3,4,5])\n",
    "print(np_array)\n",
    "type(np_array)"
   ]
  },
  {
   "cell_type": "code",
   "execution_count": 22,
   "id": "6527bfcf-1795-47c4-b3c2-8560d1731e03",
   "metadata": {},
   "outputs": [
    {
     "data": {
      "text/plain": [
       "(5,)"
      ]
     },
     "execution_count": 22,
     "metadata": {},
     "output_type": "execute_result"
    }
   ],
   "source": [
    "np_array.shape"
   ]
  },
  {
   "cell_type": "code",
   "execution_count": 24,
   "id": "6cda3162-d9b2-49ee-9128-3e0450787a21",
   "metadata": {},
   "outputs": [
    {
     "name": "stdout",
     "output_type": "stream",
     "text": [
      "[[1 2 3 4]\n",
      " [5 6 7 8]]\n",
      "(2, 4)\n"
     ]
    }
   ],
   "source": [
    "b = np.array([(1,2,3,4),(5,6,7,8)])\n",
    "print(b)\n",
    "print(b.shape)"
   ]
  },
  {
   "cell_type": "code",
   "execution_count": 32,
   "id": "93e7f71a-a55a-4b85-8d4c-0a750e57ed85",
   "metadata": {},
   "outputs": [
    {
     "name": "stdout",
     "output_type": "stream",
     "text": [
      "[[1. 2. 3. 4.]\n",
      " [5. 6. 0. 8.]]\n",
      "float64\n"
     ]
    }
   ],
   "source": [
    "c = np.array([(1,2,3,4),(5,6,0,8)],dtype=float)\n",
    "print(c)\n",
    "print(c.dtype)"
   ]
  },
  {
   "cell_type": "code",
   "execution_count": 33,
   "id": "a0e2aab8-c45f-4ce7-a9bc-f3cc3159535c",
   "metadata": {},
   "outputs": [
    {
     "name": "stdout",
     "output_type": "stream",
     "text": [
      "[[0. 0. 0. 0. 0.]\n",
      " [0. 0. 0. 0. 0.]\n",
      " [0. 0. 0. 0. 0.]\n",
      " [0. 0. 0. 0. 0.]]\n"
     ]
    }
   ],
   "source": [
    "# create a numpy array of Zeros\n",
    "x = np.zeros((4,5))\n",
    "print(x)"
   ]
  },
  {
   "cell_type": "code",
   "execution_count": 35,
   "id": "405bb479-e245-44ab-b102-d1923214da90",
   "metadata": {},
   "outputs": [
    {
     "name": "stdout",
     "output_type": "stream",
     "text": [
      "[[1 1 1]\n",
      " [1 1 1]\n",
      " [1 1 1]]\n"
     ]
    }
   ],
   "source": [
    "# create a numpy array of ones\n",
    "y = np.ones((3,3),dtype=int)\n",
    "print(y)"
   ]
  },
  {
   "cell_type": "code",
   "execution_count": 36,
   "id": "d6512484-c44c-49da-8bbf-63940586751d",
   "metadata": {},
   "outputs": [
    {
     "name": "stdout",
     "output_type": "stream",
     "text": [
      "[[5 5 5 5]\n",
      " [5 5 5 5]\n",
      " [5 5 5 5]\n",
      " [5 5 5 5]\n",
      " [5 5 5 5]]\n"
     ]
    }
   ],
   "source": [
    "# array of a particular value\n",
    "z = np.full((5,4),5)\n",
    "print(z)"
   ]
  },
  {
   "cell_type": "code",
   "execution_count": 39,
   "id": "39dc20b1-976a-48ae-943f-aedaf83934c4",
   "metadata": {},
   "outputs": [
    {
     "name": "stdout",
     "output_type": "stream",
     "text": [
      "[[1 0 0 0 0]\n",
      " [0 1 0 0 0]\n",
      " [0 0 1 0 0]\n",
      " [0 0 0 1 0]\n",
      " [0 0 0 0 1]]\n"
     ]
    }
   ],
   "source": [
    "# create an identity matrix\n",
    "a = np.eye(5,dtype=int)\n",
    "print(a)"
   ]
  },
  {
   "cell_type": "code",
   "execution_count": 43,
   "id": "11a34eca-a693-4392-b485-8694732f49ff",
   "metadata": {},
   "outputs": [
    {
     "name": "stdout",
     "output_type": "stream",
     "text": [
      "[[0.00103364 0.67457816 0.49548384 0.57104675]\n",
      " [0.15256932 0.93491667 0.0487978  0.66518184]\n",
      " [0.99866645 0.42780204 0.66440756 0.4293246 ]]\n"
     ]
    }
   ],
   "source": [
    "# create a numpy array with random values\n",
    "b = np.random.random((3,4))\n",
    "print(b)"
   ]
  },
  {
   "cell_type": "code",
   "execution_count": 44,
   "id": "16e027a0-9136-4d28-9296-7dd1ba1d910b",
   "metadata": {},
   "outputs": [
    {
     "name": "stdout",
     "output_type": "stream",
     "text": [
      "[[84 83 70 76 12]\n",
      " [72 65 90 54 24]\n",
      " [46 37 31 53 24]]\n"
     ]
    }
   ],
   "source": [
    "# random integer values array within a specific range\n",
    "c = np.random.randint(10,100,(3,5))\n",
    "print(c)"
   ]
  },
  {
   "cell_type": "code",
   "execution_count": 54,
   "id": "731aa8aa-3c79-4595-b774-98472f3af92b",
   "metadata": {},
   "outputs": [
    {
     "name": "stdout",
     "output_type": "stream",
     "text": [
      "[  0.  25.  50.  75. 100.]\n"
     ]
    }
   ],
   "source": [
    "# array of evenly spaced values --> specifying the number of values required\n",
    "d = np.linspace(0,100,5)\n",
    "print(d)"
   ]
  },
  {
   "cell_type": "code",
   "execution_count": 56,
   "id": "ce4a2ca2-f869-466c-9266-d1a298c68c28",
   "metadata": {},
   "outputs": [
    {
     "name": "stdout",
     "output_type": "stream",
     "text": [
      "[ 0  5 10 15 20 25 30 35 40 45 50 55 60 65 70 75 80 85 90 95]\n"
     ]
    }
   ],
   "source": [
    "# array of evenly spaced values --> specifying the step\n",
    "e = np.arange(0,100,5)\n",
    "print(e)"
   ]
  },
  {
   "cell_type": "code",
   "execution_count": 64,
   "id": "280e5327-fec1-4ecb-9710-9c6a7f76109c",
   "metadata": {},
   "outputs": [
    {
     "data": {
      "text/plain": [
       "array([[6, 2, 7],\n",
       "       [3, 1, 1],\n",
       "       [7, 4, 3]])"
      ]
     },
     "execution_count": 64,
     "metadata": {},
     "output_type": "execute_result"
    }
   ],
   "source": [
    "a = np.random.randint(0,10,(3,3))\n",
    "b = np.random.randint(10,20,(3,3))\n",
    "a"
   ]
  },
  {
   "cell_type": "code",
   "execution_count": 65,
   "id": "f6bf07e2-c7f4-4fdb-a374-56553a08ea44",
   "metadata": {},
   "outputs": [
    {
     "name": "stdout",
     "output_type": "stream",
     "text": [
      "[[22 16 22]\n",
      " [19 13 17]\n",
      " [20 23 16]]\n",
      "[[-10 -12  -8]\n",
      " [-13 -11 -15]\n",
      " [ -6 -15 -10]]\n",
      "[[ 96  28 105]\n",
      " [ 48  12  16]\n",
      " [ 91  76  39]]\n",
      "[[0.375      0.14285714 0.46666667]\n",
      " [0.1875     0.08333333 0.0625    ]\n",
      " [0.53846154 0.21052632 0.23076923]]\n"
     ]
    }
   ],
   "source": [
    "print(a+b)\n",
    "print(a-b)\n",
    "print(a*b)\n",
    "print(a/b)"
   ]
  },
  {
   "cell_type": "code",
   "execution_count": 66,
   "id": "f58fff1d-8b33-47ba-8875-a7844bd539e8",
   "metadata": {},
   "outputs": [
    {
     "name": "stdout",
     "output_type": "stream",
     "text": [
      "[[22 16 22]\n",
      " [19 13 17]\n",
      " [20 23 16]]\n",
      "[[-10 -12  -8]\n",
      " [-13 -11 -15]\n",
      " [ -6 -15 -10]]\n",
      "[[ 96  28 105]\n",
      " [ 48  12  16]\n",
      " [ 91  76  39]]\n",
      "[[0.375      0.14285714 0.46666667]\n",
      " [0.1875     0.08333333 0.0625    ]\n",
      " [0.53846154 0.21052632 0.23076923]]\n"
     ]
    }
   ],
   "source": [
    "print(np.add(a,b))\n",
    "print(np.subtract(a,b))\n",
    "print(np.multiply(a,b))\n",
    "print(np.divide(a,b))"
   ]
  },
  {
   "cell_type": "markdown",
   "id": "afbf732f-71be-4684-a990-071282c3e77f",
   "metadata": {},
   "source": [
    "Array Manipulation"
   ]
  },
  {
   "cell_type": "code",
   "execution_count": 67,
   "id": "c7d46677-a365-436e-9ce7-dad76fd86bff",
   "metadata": {},
   "outputs": [
    {
     "name": "stdout",
     "output_type": "stream",
     "text": [
      "[[1 3 4]\n",
      " [9 4 4]]\n",
      "(2, 3)\n"
     ]
    }
   ],
   "source": [
    "array = np.random.randint(0,10,(2,3))\n",
    "print(array)\n",
    "print(array.shape)"
   ]
  },
  {
   "cell_type": "code",
   "execution_count": 68,
   "id": "b3f6faca-8015-4b09-ba0b-f1326675b8bd",
   "metadata": {},
   "outputs": [
    {
     "name": "stdout",
     "output_type": "stream",
     "text": [
      "[[1 9]\n",
      " [3 4]\n",
      " [4 4]]\n",
      "(3, 2)\n"
     ]
    }
   ],
   "source": [
    "# transpose\n",
    "trans = np.transpose(array)\n",
    "print(trans)\n",
    "print(trans.shape)"
   ]
  },
  {
   "cell_type": "code",
   "execution_count": 69,
   "id": "50c8cc84-881e-4c93-83a7-37a1dc1c45ba",
   "metadata": {},
   "outputs": [
    {
     "name": "stdout",
     "output_type": "stream",
     "text": [
      "[[2 3 6]\n",
      " [6 9 1]]\n",
      "(2, 3)\n"
     ]
    }
   ],
   "source": [
    "# reshaping a array\n",
    "a = np.random.randint(0,10,(2,3))\n",
    "print(a)\n",
    "print(a.shape)"
   ]
  },
  {
   "cell_type": "code",
   "execution_count": 70,
   "id": "8755ad01-3225-4ca7-9618-21b1605d2087",
   "metadata": {},
   "outputs": [
    {
     "name": "stdout",
     "output_type": "stream",
     "text": [
      "[[2 3]\n",
      " [6 6]\n",
      " [9 1]]\n",
      "(3, 2)\n"
     ]
    }
   ],
   "source": [
    "b = a.reshape(3,2)\n",
    "print(b)\n",
    "print(b.shape)"
   ]
  },
  {
   "cell_type": "code",
   "execution_count": 71,
   "id": "5e979bc8-23a8-4f3b-acf9-6fca658baf96",
   "metadata": {},
   "outputs": [
    {
     "data": {
      "text/plain": [
       "array([[0, 3, 0],\n",
       "       [6, 9, 6]])"
      ]
     },
     "execution_count": 71,
     "metadata": {},
     "output_type": "execute_result"
    }
   ],
   "source": [
    "a = np.random.randint(0,10,(2,3))\n",
    "a"
   ]
  }
 ],
 "metadata": {
  "kernelspec": {
   "display_name": "Python 3 (ipykernel)",
   "language": "python",
   "name": "python3"
  },
  "language_info": {
   "codemirror_mode": {
    "name": "ipython",
    "version": 3
   },
   "file_extension": ".py",
   "mimetype": "text/x-python",
   "name": "python",
   "nbconvert_exporter": "python",
   "pygments_lexer": "ipython3",
   "version": "3.10.14"
  }
 },
 "nbformat": 4,
 "nbformat_minor": 5
}

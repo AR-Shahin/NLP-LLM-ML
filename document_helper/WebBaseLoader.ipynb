{
 "cells": [
  {
   "cell_type": "code",
   "execution_count": 23,
   "id": "c18538a8-41fe-4b78-b3ec-4c09c1597fb6",
   "metadata": {},
   "outputs": [],
   "source": [
    "from langchain_community.document_loaders import WebBaseLoader\n",
    "from langchain_text_splitters import RecursiveCharacterTextSplitter\n",
    "\n",
    "loader = WebBaseLoader(\"https://www.prothomalo.com/bangladesh/ou9s2frnq2\")\n",
    "data = loader.load()\n",
    "\n",
    "text_splitter = RecursiveCharacterTextSplitter(chunk_size=500, chunk_overlap=0)\n",
    "all_splits = text_splitter.split_documents(data)"
   ]
  },
  {
   "cell_type": "code",
   "execution_count": 29,
   "id": "b5bd6854-1732-4749-ac3e-3be4dfef9ef5",
   "metadata": {},
   "outputs": [
    {
     "data": {
      "text/plain": [
       "<langchain_chroma.vectorstores.Chroma at 0x7f8fd1adca30>"
      ]
     },
     "execution_count": 29,
     "metadata": {},
     "output_type": "execute_result"
    }
   ],
   "source": [
    "from langchain_chroma import Chroma\n",
    "from langchain_community.embeddings import OllamaEmbeddings\n",
    "\n",
    "embeddings = OllamaEmbeddings(model=\"llama3.1:8b\")\n",
    "vectorstore = Chroma.from_documents(documents=all_splits, embedding=embeddings)\n",
    "\n",
    "\n",
    "vectorstore"
   ]
  },
  {
   "cell_type": "code",
   "execution_count": 34,
   "id": "ee3134ec-86ce-42b0-b41e-ec601d885a7c",
   "metadata": {},
   "outputs": [
    {
     "data": {
      "text/plain": [
       "[Document(metadata={'description': 'বাংলাদেশের সাইবার নিরাপত্তা আইন (সিএসএ) বাতিল বা সংস্কার করতে অন্তর্বর্তী সরকারের প্রতি সুপারিশ করেছে আমেরিকান বার অ্যাসোসিয়েশনের সেন্টার ফর হিউম্যান রাইটস।', 'language': 'bn', 'source': 'https://www.prothomalo.com/bangladesh/ou9s2frnq2', 'title': 'ত্রুটিপূর্ণ সাইবার নিরাপত্তা আইন বাতিল কিংবা সংস্কার করা প্রয়োজন | প্রথম আলো'}, page_content='ফলো করুনবাংলাদেশ থেকে আরও পড়ুননির্যাতনমানবাধিকারডিজিটাল নিরাপত্তা আইন'),\n",
       " Document(metadata={'description': 'বাংলাদেশের সাইবার নিরাপত্তা আইন (সিএসএ) বাতিল বা সংস্কার করতে অন্তর্বর্তী সরকারের প্রতি সুপারিশ করেছে আমেরিকান বার অ্যাসোসিয়েশনের সেন্টার ফর হিউম্যান রাইটস।', 'language': 'bn', 'source': 'https://www.prothomalo.com/bangladesh/ou9s2frnq2', 'title': 'ত্রুটিপূর্ণ সাইবার নিরাপত্তা আইন বাতিল কিংবা সংস্কার করা প্রয়োজন | প্রথম আলো'}, page_content='চর্চার জন্য মানবাধিকারকর্মী, সাংবাদিক, শিক্ষার্থীসহ বহু মানুষকে সাইবার নিরাপত্তা আইন, ডিজিটাল নিরাপত্তা আইন এবং তথ্য ও যোগাযোগপ্রযুক্তি আইনে দায়েরকৃত মামলায় গ্রেপ্তার করা হয়েছে। শুধু ডিজিটাল নিরাপত্তা আইনেই ২০১৮ সালের অক্টোবর থেকে ২০২৪ সালের জুন পর্যন্ত আনুমানিক ১ হাজার ৪৩৬টি মামলা করা হয়েছে। এসব মামলায় ৫ হাজার ২৮৭ জনের বিরুদ্ধে অভিযোগ আনা হয়েছে।ঢাকাভিত্তিক গবেষণাপ্রতিষ্ঠান সেন্টার ফর গভর্ন্যান্স স্টাডিজের (সিজিএস) বরাতে প্রতিবেদনে বলা হয়েছে, ২০২৩ সালে সাইবার নিরাপত্তা আইন কার্যকর হওয়ার পর এ'),\n",
       " Document(metadata={'description': 'বাংলাদেশের সাইবার নিরাপত্তা আইন (সিএসএ) বাতিল বা সংস্কার করতে অন্তর্বর্তী সরকারের প্রতি সুপারিশ করেছে আমেরিকান বার অ্যাসোসিয়েশনের সেন্টার ফর হিউম্যান রাইটস।', 'language': 'bn', 'source': 'https://www.prothomalo.com/bangladesh/ou9s2frnq2', 'title': 'ত্রুটিপূর্ণ সাইবার নিরাপত্তা আইন বাতিল কিংবা সংস্কার করা প্রয়োজন | প্রথম আলো'}, page_content='পর ২০২১ সালের ফেব্রুয়ারিতে মৃত্যু হয় তাঁর। ওই সময় কর্তৃপক্ষ দাবি করে, হার্ট অ্যাটাকে তাঁর মৃত্যু হয়েছে। \\xa0এ ছাড়া সরকারের সমালোচনা করায় ২০১৮ সালের ৫ আগস্ট আলোকচিত্রী ও মানবাধিকারকর্মী শহিদুল আলমকে তাঁর ধানমন্ডির বাসা থেকে ধরে নিয়ে যাওয়া হয়। পরদিন তথ্য ও যোগাযোগপ্রযুক্তি আইনের ৫৭ ধারায় মামলায় গ্রেপ্তার করা হয় তাঁকে। ওই মামলায় গ্রেপ্তারের পর তাঁকে ১০০ দিনের বেশি কারাবন্দী রাখা হয়। তাঁরও জামিন আবেদন পাঁচবার নাকচ করা হয়েছিল। পরে ১০ হাজার টাকা মুচলেকায় হাইকোর্ট থেকে জামিন পান তিনি। ২০২৪ সালেও ওই'),\n",
       " Document(metadata={'description': 'বাংলাদেশের সাইবার নিরাপত্তা আইন (সিএসএ) বাতিল বা সংস্কার করতে অন্তর্বর্তী সরকারের প্রতি সুপারিশ করেছে আমেরিকান বার অ্যাসোসিয়েশনের সেন্টার ফর হিউম্যান রাইটস।', 'language': 'bn', 'source': 'https://www.prothomalo.com/bangladesh/ou9s2frnq2', 'title': 'ত্রুটিপূর্ণ সাইবার নিরাপত্তা আইন বাতিল কিংবা সংস্কার করা প্রয়োজন | প্রথম আলো'}, page_content='মামলার তদন্ত প্রতিবেদন আদালতে জমা দেয়নি পুলিশ।ওই মামলায় আলোকচিত্রী শহিদুল আলমকে এখনো মাঝেমধ্যে আদালতে হাজিরা দিতে হয়। ২০১৮ সালের নভেম্বরে জামিন পাওয়ার পর থেকে চলতি ২০২৪ সালের মে পর্যন্ত ৬৮ বারের মতো হাজিরা দিতে হয়েছে তাঁকে। \\xa0 \\xa0আমেরিকান বার অ্যাসোসিয়েশন সেন্টার ফর হিউম্যান রাইটসের প্রতিবেদনে বলা হয়েছে, ডিজিটাল মাধ্যমে নিজেদের বিভিন্ন কাজ প্রকাশ করায় সাইবার অপরাধ–সংক্রান্ত আইনের বাইরেও অন্যান্য আইনে মানবাধিকারের রক্ষকদের বিরুদ্ধে মামলা করা হয়েছে। উদাহরণ হিসেবে প্রথম আলোর সাংবাদিক রোজিনা ইসলামের')]"
      ]
     },
     "execution_count": 34,
     "metadata": {},
     "output_type": "execute_result"
    }
   ],
   "source": [
    "question = \"ars\"\n",
    "docs = vectorstore.similarity_search(question)\n",
    "docs"
   ]
  },
  {
   "cell_type": "code",
   "execution_count": null,
   "id": "e4e67196-0c7e-4c3b-aac5-ce3610bd3713",
   "metadata": {},
   "outputs": [],
   "source": []
  }
 ],
 "metadata": {
  "kernelspec": {
   "display_name": "Python 3 (ipykernel)",
   "language": "python",
   "name": "python3"
  },
  "language_info": {
   "codemirror_mode": {
    "name": "ipython",
    "version": 3
   },
   "file_extension": ".py",
   "mimetype": "text/x-python",
   "name": "python",
   "nbconvert_exporter": "python",
   "pygments_lexer": "ipython3",
   "version": "3.9.15"
  }
 },
 "nbformat": 4,
 "nbformat_minor": 5
}

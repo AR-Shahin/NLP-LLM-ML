{
 "cells": [
  {
   "cell_type": "markdown",
   "id": "5ff82c00",
   "metadata": {},
   "source": [
    "#### Google Palm LLM & API key setup"
   ]
  },
  {
   "cell_type": "code",
   "execution_count": 59,
   "id": "6de1952b",
   "metadata": {},
   "outputs": [],
   "source": [
    "from langchain_groq import ChatGroq\n",
    "api_key = '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'\n",
    "llm = ChatGroq(\n",
    "    temperature=0, \n",
    "    groq_api_key= api_key, \n",
    "    model_name=\"llama-3.1-70b-versatile\"\n",
    ")"
   ]
  },
  {
   "cell_type": "markdown",
   "id": "e0c0d700",
   "metadata": {},
   "source": [
    "#### Connect with database and ask some basic questions"
   ]
  },
  {
   "cell_type": "code",
   "execution_count": 60,
   "id": "f48fbb53",
   "metadata": {},
   "outputs": [],
   "source": [
    "from langchain.utilities import SQLDatabase\n",
    "from langchain_experimental.sql import SQLDatabaseChain"
   ]
  },
  {
   "cell_type": "code",
   "execution_count": 61,
   "id": "23f9ae16",
   "metadata": {},
   "outputs": [
    {
     "name": "stdout",
     "output_type": "stream",
     "text": [
      "\n",
      "CREATE TABLE discounts (\n",
      "\tdiscount_id INTEGER NOT NULL AUTO_INCREMENT, \n",
      "\tt_shirt_id INTEGER NOT NULL, \n",
      "\tpct_discount DECIMAL(5, 2), \n",
      "\tPRIMARY KEY (discount_id), \n",
      "\tCONSTRAINT discounts_ibfk_1 FOREIGN KEY(t_shirt_id) REFERENCES t_shirts (t_shirt_id), \n",
      "\tCONSTRAINT discounts_chk_1 CHECK ((`pct_discount` between 0 and 100))\n",
      ")DEFAULT CHARSET=utf8mb4 ENGINE=InnoDB COLLATE utf8mb4_0900_ai_ci\n",
      "\n",
      "/*\n",
      "3 rows from discounts table:\n",
      "discount_id\tt_shirt_id\tpct_discount\n",
      "1\t1\t10.00\n",
      "2\t2\t15.00\n",
      "3\t3\t20.00\n",
      "*/\n",
      "\n",
      "\n",
      "CREATE TABLE t_shirts (\n",
      "\tt_shirt_id INTEGER NOT NULL AUTO_INCREMENT, \n",
      "\tbrand ENUM('Van Huesen','Levi','Nike','Adidas') NOT NULL, \n",
      "\tcolor ENUM('Red','Blue','Black','White') NOT NULL, \n",
      "\tsize ENUM('XS','S','M','L','XL') NOT NULL, \n",
      "\tprice INTEGER, \n",
      "\tstock_quantity INTEGER NOT NULL, \n",
      "\tPRIMARY KEY (t_shirt_id), \n",
      "\tCONSTRAINT t_shirts_chk_1 CHECK ((`price` between 10 and 50))\n",
      ")DEFAULT CHARSET=utf8mb4 ENGINE=InnoDB COLLATE utf8mb4_0900_ai_ci\n",
      "\n",
      "/*\n",
      "3 rows from t_shirts table:\n",
      "t_shirt_id\tbrand\tcolor\tsize\tprice\tstock_quantity\n",
      "1\tNike\tWhite\tS\t13\t68\n",
      "2\tAdidas\tBlack\tL\t26\t92\n",
      "3\tLevi\tWhite\tXL\t21\t86\n",
      "*/\n"
     ]
    }
   ],
   "source": [
    "db_user = \"root\"\n",
    "db_password = \"password\"\n",
    "db_host = \"localhost\"\n",
    "db_name = \"atliq_tshirts\"\n",
    "\n",
    "db = SQLDatabase.from_uri(f\"mysql+pymysql://{db_user}:{db_password}@{db_host}/{db_name}\",sample_rows_in_table_info=3)\n",
    "\n",
    "print(db.table_info)"
   ]
  },
  {
   "cell_type": "code",
   "execution_count": 62,
   "id": "b0c86dce",
   "metadata": {},
   "outputs": [
    {
     "name": "stdout",
     "output_type": "stream",
     "text": [
      "\n",
      "\n",
      "\u001b[1m> Entering new SQLDatabaseChain chain...\u001b[0m\n",
      "How many t-shirts do we have left for nike in extra small size and white color?\n",
      "SQLQuery:\u001b[32;1m\u001b[1;3mQuestion: How many t-shirts do we have left for nike in extra small size and white color?\n",
      "SQLQuery: SELECT `stock_quantity` FROM t_shirts WHERE `brand` = 'Nike' AND `size` = 'XS' AND `color` = 'White' LIMIT 5;\u001b[0m\n",
      "SQLResult: \u001b[33;1m\u001b[1;3m[(39,)]\u001b[0m\n",
      "Answer:\u001b[32;1m\u001b[1;3mQuestion: How many t-shirts do we have left for nike in extra small size and white color?\n",
      "SQLQuery: SELECT `stock_quantity` FROM t_shirts WHERE `brand` = 'Nike' AND `size` = 'XS' AND `color` = 'White' LIMIT 5;\u001b[0m\n",
      "\u001b[1m> Finished chain.\u001b[0m\n"
     ]
    }
   ],
   "source": [
    "db_chain = SQLDatabaseChain.from_llm(llm, db, verbose=True)\n",
    "qns1 = db_chain(\"How many t-shirts do we have left for nike in extra small size and white color?\")"
   ]
  },
  {
   "cell_type": "markdown",
   "id": "2d100193",
   "metadata": {},
   "source": [
    "Above is the correct answer 👍🏼"
   ]
  },
  {
   "cell_type": "code",
   "execution_count": 63,
   "id": "2b436818",
   "metadata": {
    "scrolled": true
   },
   "outputs": [
    {
     "name": "stdout",
     "output_type": "stream",
     "text": [
      "\n",
      "\n",
      "\u001b[1m> Entering new SQLDatabaseChain chain...\u001b[0m\n",
      "How much is the price of the inventory for all small size t-shirts?\n",
      "SQLQuery:\u001b[32;1m\u001b[1;3mQuestion: How much is the price of the inventory for all small size t-shirts?\n",
      "SQLQuery: \n",
      "SELECT SUM(`price` * `stock_quantity`) AS total_price \n",
      "FROM t_shirts \n",
      "WHERE `size` = 'S';\u001b[0m\n",
      "SQLResult: \u001b[33;1m\u001b[1;3m[(Decimal('16713'),)]\u001b[0m\n",
      "Answer:\u001b[32;1m\u001b[1;3mQuestion: How much is the price of the inventory for all small size t-shirts?\n",
      "SQLQuery: SELECT SUM(`price` * `stock_quantity`) AS total_price \n",
      "FROM t_shirts \n",
      "WHERE `size` = 'S';\u001b[0m\n",
      "\u001b[1m> Finished chain.\u001b[0m\n"
     ]
    }
   ],
   "source": [
    "qns2 = db_chain.run(\"How much is the price of the inventory for all small size t-shirts?\")"
   ]
  },
  {
   "cell_type": "markdown",
   "id": "7632f6dc",
   "metadata": {},
   "source": [
    "It made a mistake here. The price is actually the price per unit but in real life database columns will not have perfect names. We need to tell it somehow that price is price per unit and the actual query should be,\n",
    "\n",
    "SELECT SUM(price*stock_quantity) FROM t_shirts WHERE size = 'S'"
   ]
  },
  {
   "cell_type": "code",
   "execution_count": 64,
   "id": "52d613ed",
   "metadata": {},
   "outputs": [
    {
     "name": "stdout",
     "output_type": "stream",
     "text": [
      "\n",
      "\n",
      "\u001b[1m> Entering new SQLDatabaseChain chain...\u001b[0m\n",
      "SELECT SUM(price*stock_quantity) FROM t_shirts WHERE size = 'S'\n",
      "SQLQuery:\u001b[32;1m\u001b[1;3mQuestion: SELECT SUM(price*stock_quantity) FROM t_shirts WHERE size = 'S'\n",
      "SQLQuery: SELECT SUM(`price` * `stock_quantity`) FROM t_shirts WHERE `size` = 'S'\u001b[0m\n",
      "SQLResult: \u001b[33;1m\u001b[1;3m[(Decimal('16713'),)]\u001b[0m\n",
      "Answer:\u001b[32;1m\u001b[1;3mQuestion: SELECT SUM(price*stock_quantity) FROM t_shirts WHERE size = 'S'\n",
      "SQLQuery: SELECT SUM(`price` * `stock_quantity`) FROM t_shirts WHERE `size` = 'S'\u001b[0m\n",
      "\u001b[1m> Finished chain.\u001b[0m\n"
     ]
    }
   ],
   "source": [
    "qns2 = db_chain.run(\"SELECT SUM(price*stock_quantity) FROM t_shirts WHERE size = 'S'\")"
   ]
  },
  {
   "cell_type": "markdown",
   "id": "5b9a4e2c",
   "metadata": {},
   "source": [
    "we will use qns2 value later on in this notebook. So hold on for now and let's check another query"
   ]
  },
  {
   "cell_type": "code",
   "execution_count": 65,
   "id": "7da6c762",
   "metadata": {},
   "outputs": [],
   "source": [
    "# qns3 = db_chain.run(\"If we have to sell all the Levi’s T-shirts today with discounts applied. How much revenue our store will generate (post discounts)?\")"
   ]
  },
  {
   "cell_type": "markdown",
   "id": "180f02fd",
   "metadata": {},
   "source": [
    "Above, it returned a wrong query which generated an error during query execution. It thinks discount\n",
    "table would have start and end date which is normally true but in our table there is no start or end date column.\n",
    "One thing we can do here is run the query directly."
   ]
  },
  {
   "cell_type": "code",
   "execution_count": 66,
   "id": "28a4b3c3",
   "metadata": {},
   "outputs": [
    {
     "name": "stdout",
     "output_type": "stream",
     "text": [
      "\n",
      "\n",
      "\u001b[1m> Entering new SQLDatabaseChain chain...\u001b[0m\n",
      "\n",
      "select sum(a.total_amount * ((100-COALESCE(discounts.pct_discount,0))/100)) as total_revenue from\n",
      "(select sum(price*stock_quantity) as total_amount, t_shirt_id from t_shirts where brand = 'Levi'\n",
      "group by t_shirt_id) a left join discounts on a.t_shirt_id = discounts.t_shirt_id\n",
      " \n",
      "SQLQuery:\u001b[32;1m\u001b[1;3mQuestion: \n",
      "select sum(a.total_amount * ((100-COALESCE(discounts.pct_discount,0))/100)) as total_revenue from\n",
      "(select sum(price*stock_quantity) as total_amount, t_shirt_id from t_shirts where brand = 'Levi'\n",
      "group by t_shirt_id) a left join discounts on a.t_shirt_id = discounts.t_shirt_id\n",
      "\n",
      "SQLQuery: \n",
      "SELECT \n",
      "  SUM(a.`total_amount` * ((100 - COALESCE(discounts.`pct_discount`, 0)) / 100)) AS `total_revenue`\n",
      "FROM \n",
      "  (SELECT \n",
      "     SUM(t_shirts.`price` * t_shirts.`stock_quantity`) AS `total_amount`, \n",
      "     t_shirts.`t_shirt_id`\n",
      "   FROM \n",
      "     t_shirts\n",
      "   WHERE \n",
      "     t_shirts.`brand` = 'Levi'\n",
      "   GROUP BY \n",
      "     t_shirts.`t_shirt_id`) a\n",
      "  LEFT JOIN discounts ON a.`t_shirt_id` = discounts.`t_shirt_id`\u001b[0m\n",
      "SQLResult: \u001b[33;1m\u001b[1;3m[(Decimal('35348.550000'),)]\u001b[0m\n",
      "Answer:\u001b[32;1m\u001b[1;3mQuestion: What is the total revenue from Levi brand t-shirts after applying discounts?\n",
      "SQLQuery: \n",
      "SELECT \n",
      "  SUM(a.`total_amount` * ((100 - COALESCE(discounts.`pct_discount`, 0)) / 100)) AS `total_revenue`\n",
      "FROM \n",
      "  (SELECT \n",
      "     SUM(t_shirts.`price` * t_shirts.`stock_quantity`) AS `total_amount`, \n",
      "     t_shirts.`t_shirt_id`\n",
      "   FROM \n",
      "     t_shirts\n",
      "   WHERE \n",
      "     t_shirts.`brand` = 'Levi'\n",
      "   GROUP BY \n",
      "     t_shirts.`t_shirt_id`) a\n",
      "  LEFT JOIN discounts ON a.`t_shirt_id` = discounts.`t_shirt_id`\u001b[0m\n",
      "\u001b[1m> Finished chain.\u001b[0m\n"
     ]
    }
   ],
   "source": [
    "sql_code = \"\"\"\n",
    "select sum(a.total_amount * ((100-COALESCE(discounts.pct_discount,0))/100)) as total_revenue from\n",
    "(select sum(price*stock_quantity) as total_amount, t_shirt_id from t_shirts where brand = 'Levi'\n",
    "group by t_shirt_id) a left join discounts on a.t_shirt_id = discounts.t_shirt_id\n",
    " \"\"\"\n",
    "\n",
    "qns3 = db_chain.run(sql_code)"
   ]
  },
  {
   "cell_type": "markdown",
   "id": "18dbf6ca",
   "metadata": {},
   "source": [
    "It produced a correct answer when explicit query was given. 17462 is the total revenue without discounts. The total discount is 736.6. Hence revenue post discount is 17462-736.6=16725.4\n",
    "\n",
    "Now this is not much interesting because what is the point of giving it the ready made query? Well, we will use this same query later on for few shot learning"
   ]
  },
  {
   "cell_type": "code",
   "execution_count": 67,
   "id": "b04ab6a4",
   "metadata": {},
   "outputs": [
    {
     "name": "stdout",
     "output_type": "stream",
     "text": [
      "\n",
      "\n",
      "\u001b[1m> Entering new SQLDatabaseChain chain...\u001b[0m\n",
      "SELECT SUM(price * stock_quantity) FROM t_shirts WHERE brand = 'Levi'\n",
      "SQLQuery:\u001b[32;1m\u001b[1;3mQuestion: SELECT SUM(price * stock_quantity) FROM t_shirts WHERE brand = 'Levi'\n",
      "SQLQuery: SELECT SUM(`price` * `stock_quantity`) FROM `t_shirts` WHERE `brand` = 'Levi' LIMIT 5;\u001b[0m\n",
      "SQLResult: \u001b[33;1m\u001b[1;3m[(Decimal('36933'),)]\u001b[0m\n",
      "Answer:\u001b[32;1m\u001b[1;3mQuestion: What is the total value of Levi t-shirts in stock?\n",
      "SQLQuery: SELECT SUM(`price` * `stock_quantity`) AS `total_value` FROM `t_shirts` WHERE `brand` = 'Levi' LIMIT 5;\u001b[0m\n",
      "\u001b[1m> Finished chain.\u001b[0m\n"
     ]
    }
   ],
   "source": [
    "qns4 = db_chain.run(\"SELECT SUM(price * stock_quantity) FROM t_shirts WHERE brand = 'Levi'\")"
   ]
  },
  {
   "cell_type": "code",
   "execution_count": 68,
   "id": "5e822ee3",
   "metadata": {
    "scrolled": true
   },
   "outputs": [
    {
     "name": "stdout",
     "output_type": "stream",
     "text": [
      "\n",
      "\n",
      "\u001b[1m> Entering new SQLDatabaseChain chain...\u001b[0m\n",
      "How many white color Levi's t shirts we have available?\n",
      "SQLQuery:\u001b[32;1m\u001b[1;3mQuestion: How many white color Levi's t shirts we have available?\n",
      "SQLQuery: SELECT `stock_quantity` FROM t_shirts WHERE `brand` = 'Levi' AND `color` = 'White'\u001b[0m\n",
      "SQLResult: \u001b[33;1m\u001b[1;3m[(98,), (79,), (69,), (86,)]\u001b[0m\n",
      "Answer:\u001b[32;1m\u001b[1;3mQuestion: How many white color Levi's t shirts we have available?\n",
      "SQLQuery: SELECT `stock_quantity` FROM t_shirts WHERE `brand` = 'Levi' AND `color` = 'White'\u001b[0m\n",
      "\u001b[1m> Finished chain.\u001b[0m\n"
     ]
    }
   ],
   "source": [
    "qns5 = db_chain.run(\"How many white color Levi's t shirts we have available?\")"
   ]
  },
  {
   "cell_type": "markdown",
   "id": "62ee0e11",
   "metadata": {},
   "source": [
    "Once again above is the wrong answer. We need to use SUM(stock_quantity). Let's run the query explicitly. We will use the result of this query later on in the notebook"
   ]
  },
  {
   "cell_type": "code",
   "execution_count": 69,
   "id": "30d15ec1",
   "metadata": {},
   "outputs": [
    {
     "name": "stdout",
     "output_type": "stream",
     "text": [
      "\n",
      "\n",
      "\u001b[1m> Entering new SQLDatabaseChain chain...\u001b[0m\n",
      "SELECT sum(stock_quantity) FROM t_shirts WHERE brand = 'Levi' AND color = 'White'\n",
      "SQLQuery:\u001b[32;1m\u001b[1;3mQuestion: SELECT sum(stock_quantity) FROM t_shirts WHERE brand = 'Levi' AND color = 'White'\n",
      "SQLQuery: SELECT SUM(`stock_quantity`) FROM `t_shirts` WHERE `brand` = 'Levi' AND `color` = 'White' LIMIT 5;\u001b[0m\n",
      "SQLResult: \u001b[33;1m\u001b[1;3m[(Decimal('332'),)]\u001b[0m\n",
      "Answer:\u001b[32;1m\u001b[1;3mQuestion: SELECT sum(stock_quantity) FROM t_shirts WHERE brand = 'Levi' AND color = 'White'\n",
      "SQLQuery: SELECT SUM(`stock_quantity`) FROM `t_shirts` WHERE `brand` = 'Levi' AND `color` = 'White' LIMIT 5;\u001b[0m\n",
      "\u001b[1m> Finished chain.\u001b[0m\n"
     ]
    }
   ],
   "source": [
    "qns5 = db_chain.run(\"SELECT sum(stock_quantity) FROM t_shirts WHERE brand = 'Levi' AND color = 'White'\")"
   ]
  },
  {
   "cell_type": "markdown",
   "id": "afe780d9",
   "metadata": {},
   "source": [
    "#### Few shot learning\n",
    "\n",
    "We will use few shot learning to fix issues we have seen so far"
   ]
  },
  {
   "cell_type": "code",
   "execution_count": 79,
   "id": "a75ae546",
   "metadata": {},
   "outputs": [
    {
     "data": {
      "text/plain": [
       "[{'Question': 'How many t-shirts do we have left for Nike in XS size and white color?',\n",
       "  'SQLQuery': \"SELECT sum(stock_quantity) FROM t_shirts WHERE brand = 'Nike' AND color = 'White' AND size = 'XS'\",\n",
       "  'SQLResult': 'Result of the SQL query',\n",
       "  'Answer': {'query': 'How many t-shirts do we have left for nike in extra small size and white color?',\n",
       "   'result': \"Question: How many t-shirts do we have left for nike in extra small size and white color?\\nSQLQuery: SELECT `stock_quantity` FROM t_shirts WHERE `brand` = 'Nike' AND `size` = 'XS' AND `color` = 'White' LIMIT 5;\"}},\n",
       " {'Question': 'How much is the total price of the inventory for all S-size t-shirts?',\n",
       "  'SQLQuery': \"SELECT SUM(price*stock_quantity) FROM t_shirts WHERE size = 'S'\",\n",
       "  'SQLResult': 'Result of the SQL query',\n",
       "  'Answer': \"Question: SELECT SUM(price*stock_quantity) FROM t_shirts WHERE size = 'S'\\nSQLQuery: SELECT SUM(`price` * `stock_quantity`) FROM t_shirts WHERE `size` = 'S'\"}]"
      ]
     },
     "execution_count": 79,
     "metadata": {},
     "output_type": "execute_result"
    }
   ],
   "source": [
    "few_shots = [\n",
    "    {'Question' : \"How many t-shirts do we have left for Nike in XS size and white color?\",\n",
    "     'SQLQuery' : \"SELECT sum(stock_quantity) FROM t_shirts WHERE brand = 'Nike' AND color = 'White' AND size = 'XS'\",\n",
    "     'SQLResult': \"Result of the SQL query\",\n",
    "     'Answer' : qns1},\n",
    "    {'Question': \"How much is the total price of the inventory for all S-size t-shirts?\",\n",
    "     'SQLQuery':\"SELECT SUM(price*stock_quantity) FROM t_shirts WHERE size = 'S'\",\n",
    "     'SQLResult': \"Result of the SQL query\",\n",
    "     'Answer': qns2},\n",
    "#     {'Question': \"If we have to sell all the Levi’s T-shirts today with discounts applied. How much revenue  our store will generate (post discounts)?\" ,\n",
    "#      'SQLQuery' : \"\"\"SELECT sum(a.total_amount * ((100-COALESCE(discounts.pct_discount,0))/100)) as total_revenue from\n",
    "# (select sum(price*stock_quantity) as total_amount, t_shirt_id from t_shirts where brand = 'Levi'\n",
    "# group by t_shirt_id) a left join discounts on a.t_shirt_id = discounts.t_shirt_id\n",
    "#  \"\"\",\n",
    "#      'SQLResult': \"Result of the SQL query\",\n",
    "#      'Answer': qns3} ,\n",
    "#      {'Question' : \"If we have to sell all the Levi’s T-shirts today. How much revenue our store will generate without discount?\" ,\n",
    "#       'SQLQuery': \"SELECT SUM(price * stock_quantity) FROM t_shirts WHERE brand = 'Levi'\",\n",
    "#       'SQLResult': \"Result of the SQL query\",\n",
    "#       'Answer' : qns4},\n",
    "#     {'Question': \"How many white color Levi's shirt I have?\",\n",
    "#      'SQLQuery' : \"SELECT sum(stock_quantity) FROM t_shirts WHERE brand = 'Levi' AND color = 'White'\",\n",
    "#      'SQLResult': \"Result of the SQL query\",\n",
    "#      'Answer' : qns5\n",
    "#      }\n",
    "]\n",
    "few_shots\n"
   ]
  },
  {
   "cell_type": "markdown",
   "id": "30f7b3c9",
   "metadata": {},
   "source": [
    "### Creating Semantic Similarity Based example selector\n",
    "\n",
    "- create embedding on the few_shots\n",
    "- Store the embeddings in Chroma DB\n",
    "- Retrieve the the top most Semantically close example from the vector store"
   ]
  },
  {
   "cell_type": "code",
   "execution_count": 83,
   "id": "54306b8d",
   "metadata": {},
   "outputs": [],
   "source": [
    "from langchain.embeddings import HuggingFaceEmbeddings\n",
    "from langchain.vectorstores import Chroma\n",
    "\n",
    "# Define the embeddings model\n",
    "embeddings = HuggingFaceEmbeddings(model_name='sentence-transformers/all-MiniLM-L6-v2')\n",
    "\n",
    "# Prepare texts to vectorize and simplified metadata\n",
    "to_vectorize = []\n",
    "metadatas = []\n",
    "\n",
    "try:\n",
    "    for example in few_shots:\n",
    "        # Process example text\n",
    "        example_str = \" \".join(\n",
    "            \" \".join(str(value) for value in v.values()) if isinstance(v, dict) else str(v)\n",
    "            for v in example.values()\n",
    "        )\n",
    "        to_vectorize.append(example_str)\n",
    "        \n",
    "        # Simplify metadata: Convert to dictionary with simple types\n",
    "        metadata_dict = {\n",
    "            \"Question\": example.get(\"Question\", \"\"),\n",
    "            \"SQLQuery\": example.get(\"SQLQuery\", \"\"),\n",
    "            \"SQLResult\": example.get(\"SQLResult\", \"\")\n",
    "        }\n",
    "        metadatas.append(metadata_dict)\n",
    "except Exception as e:\n",
    "    print(f\"An error occurred while processing examples: {e}\")\n",
    "\n",
    "# Create the vector store\n",
    "try:\n",
    "    vectorstore = Chroma.from_texts(to_vectorize, embeddings, metadatas=metadatas)\n",
    "except Exception as e:\n",
    "    print(f\"An error occurred while creating the vector store: {e}\")\n"
   ]
  },
  {
   "cell_type": "code",
   "execution_count": null,
   "id": "d806f39b",
   "metadata": {},
   "outputs": [],
   "source": []
  },
  {
   "cell_type": "code",
   "execution_count": 84,
   "id": "f9cc4b0e",
   "metadata": {},
   "outputs": [
    {
     "data": {
      "text/plain": [
       "[{},\n",
       " {'Question': 'How many t-shirts do we have left for Nike in XS size and white color?',\n",
       "  'SQLQuery': \"SELECT sum(stock_quantity) FROM t_shirts WHERE brand = 'Nike' AND color = 'White' AND size = 'XS'\",\n",
       "  'SQLResult': 'Result of the SQL query'}]"
      ]
     },
     "execution_count": 84,
     "metadata": {},
     "output_type": "execute_result"
    }
   ],
   "source": [
    "example_selector = SemanticSimilarityExampleSelector(\n",
    "    vectorstore=vectorstore,\n",
    "    k=2,\n",
    ")\n",
    "\n",
    "example_selector.select_examples({\"Question\": \"How many Adidas T shirts I have left in my store?\"})"
   ]
  },
  {
   "cell_type": "code",
   "execution_count": 85,
   "id": "485d270b",
   "metadata": {},
   "outputs": [],
   "source": [
    "### my sql based instruction prompt\n",
    "mysql_prompt = \"\"\"You are a MySQL expert. Given an input question, first create a syntactically correct MySQL query to run, then look at the results of the query and return the answer to the input question.\n",
    "Unless the user specifies in the question a specific number of examples to obtain, query for at most {top_k} results using the LIMIT clause as per MySQL. You can order the results to return the most informative data in the database.\n",
    "Never query for all columns from a table. You must query only the columns that are needed to answer the question. Wrap each column name in backticks (`) to denote them as delimited identifiers.\n",
    "Pay attention to use only the column names you can see in the tables below. Be careful to not query for columns that do not exist. Also, pay attention to which column is in which table.\n",
    "Pay attention to use CURDATE() function to get the current date, if the question involves \"today\".\n",
    "\n",
    "Use the following format:\n",
    "\n",
    "Question: Question here\n",
    "SQLQuery: Query to run with no pre-amble\n",
    "SQLResult: Result of the SQLQuery\n",
    "Answer: Final answer here\n",
    "\n",
    "No pre-amble.\n",
    "\"\"\""
   ]
  },
  {
   "cell_type": "code",
   "execution_count": 86,
   "id": "357ca60f",
   "metadata": {
    "scrolled": true
   },
   "outputs": [
    {
     "name": "stdout",
     "output_type": "stream",
     "text": [
      "Only use the following tables:\n",
      "{table_info}\n",
      "\n",
      "Question: {input}\n"
     ]
    }
   ],
   "source": [
    "from langchain.prompts import FewShotPromptTemplate\n",
    "from langchain.chains.sql_database.prompt import PROMPT_SUFFIX, _mysql_prompt\n",
    "\n",
    "print(PROMPT_SUFFIX)"
   ]
  },
  {
   "cell_type": "markdown",
   "id": "20224496",
   "metadata": {},
   "source": [
    "### Setting up PromptTemplete using input variables"
   ]
  },
  {
   "cell_type": "code",
   "execution_count": 87,
   "id": "3337e4a0",
   "metadata": {},
   "outputs": [],
   "source": [
    "from langchain.prompts.prompt import PromptTemplate\n",
    "\n",
    "example_prompt = PromptTemplate(\n",
    "    input_variables=[\"Question\", \"SQLQuery\", \"SQLResult\",\"Answer\",],\n",
    "    template=\"\\nQuestion: {Question}\\nSQLQuery: {SQLQuery}\\nSQLResult: {SQLResult}\\nAnswer: {Answer}\",\n",
    ")"
   ]
  },
  {
   "cell_type": "code",
   "execution_count": 88,
   "id": "5157663d",
   "metadata": {},
   "outputs": [
    {
     "name": "stdout",
     "output_type": "stream",
     "text": [
      "You are a MySQL expert. Given an input question, first create a syntactically correct MySQL query to run, then look at the results of the query and return the answer to the input question.\n",
      "Unless the user specifies in the question a specific number of examples to obtain, query for at most {top_k} results using the LIMIT clause as per MySQL. You can order the results to return the most informative data in the database.\n",
      "Never query for all columns from a table. You must query only the columns that are needed to answer the question. Wrap each column name in backticks (`) to denote them as delimited identifiers.\n",
      "Pay attention to use only the column names you can see in the tables below. Be careful to not query for columns that do not exist. Also, pay attention to which column is in which table.\n",
      "Pay attention to use CURDATE() function to get the current date, if the question involves \"today\".\n",
      "\n",
      "Use the following format:\n",
      "\n",
      "Question: Question here\n",
      "SQLQuery: SQL Query to run\n",
      "SQLResult: Result of the SQLQuery\n",
      "Answer: Final answer here\n",
      "\n",
      "\n"
     ]
    }
   ],
   "source": [
    "print(_mysql_prompt)"
   ]
  },
  {
   "cell_type": "code",
   "execution_count": 98,
   "id": "5736eb12",
   "metadata": {},
   "outputs": [
    {
     "name": "stdout",
     "output_type": "stream",
     "text": [
      "input_variables=['input', 'table_info', 'top_k'] example_selector=SemanticSimilarityExampleSelector(vectorstore=<langchain_community.vectorstores.chroma.Chroma object at 0x7f89b8cbbd60>, k=2, example_keys=None, input_keys=None, vectorstore_kwargs=None) example_prompt=PromptTemplate(input_variables=['Answer', 'Question', 'SQLQuery', 'SQLResult'], template='\\nQuestion: {Question}\\nSQLQuery: {SQLQuery}\\nSQLResult: {SQLResult}\\nAnswer: {Answer}') suffix='Only use the following tables:\\n{table_info}\\n\\nQuestion: {input}' prefix='You are a MySQL expert. Given an input question, first create a syntactically correct MySQL query to run, then look at the results of the query and return the answer to the input question.\\nUnless the user specifies in the question a specific number of examples to obtain, query for at most {top_k} results using the LIMIT clause as per MySQL. You can order the results to return the most informative data in the database.\\nNever query for all columns from a table. You must query only the columns that are needed to answer the question. Wrap each column name in backticks (`) to denote them as delimited identifiers.\\nPay attention to use only the column names you can see in the tables below. Be careful to not query for columns that do not exist. Also, pay attention to which column is in which table.\\nPay attention to use CURDATE() function to get the current date, if the question involves \"today\".\\n\\nUse the following format:\\n\\nQuestion: Question here\\nSQLQuery: Query to run with no pre-amble\\nSQLResult: Result of the SQLQuery\\nAnswer: Final answer here\\n\\nNo pre-amble.\\n'\n"
     ]
    }
   ],
   "source": [
    "few_shot_prompt = FewShotPromptTemplate(\n",
    "    example_selector=example_selector,\n",
    "    example_prompt=example_prompt,\n",
    "    prefix=mysql_prompt,\n",
    "    suffix=PROMPT_SUFFIX,\n",
    "    input_variables=[\"input\", \"table_info\", \"top_k\"], #These variables are used in the prefix and suffix\n",
    ")\n"
   ]
  },
  {
   "cell_type": "code",
   "execution_count": 101,
   "id": "c23d156c",
   "metadata": {},
   "outputs": [],
   "source": [
    "new_chain = SQLDatabaseChain.from_llm(llm, db, verbose=True)"
   ]
  },
  {
   "cell_type": "code",
   "execution_count": 104,
   "id": "12a32c68",
   "metadata": {},
   "outputs": [
    {
     "name": "stdout",
     "output_type": "stream",
     "text": [
      "\n",
      "\n",
      "\u001b[1m> Entering new SQLDatabaseChain chain...\u001b[0m\n",
      "How many white color small Levi's in shirt I have?\n",
      "SQLQuery:\u001b[32;1m\u001b[1;3mQuestion: How many white color small Levi's in shirt I have?\n",
      "SQLQuery: SELECT `stock_quantity` FROM t_shirts WHERE `brand` = 'Levi' AND `color` = 'White' AND `size` = 'S'\u001b[0m\n",
      "SQLResult: \u001b[33;1m\u001b[1;3m[(79,)]\u001b[0m\n",
      "Answer:\u001b[32;1m\u001b[1;3mQuestion: How many white color small Levi's in shirt I have?\n",
      "SQLQuery: SELECT `stock_quantity` FROM t_shirts WHERE `brand` = 'Levi' AND `color` = 'White' AND `size` = 'S'\u001b[0m\n",
      "\u001b[1m> Finished chain.\u001b[0m\n"
     ]
    }
   ],
   "source": [
    "try:\n",
    "    new_chain(\"How many white color small Levi's in shirt I have?\")\n",
    "except Expection as e:\n",
    "    print(e)"
   ]
  },
  {
   "cell_type": "markdown",
   "id": "1127786d",
   "metadata": {},
   "source": [
    "Now this is working ok. Previously for this same question it was giving wrong answer because it did not use SUM clause around stock_quantity column"
   ]
  },
  {
   "cell_type": "code",
   "execution_count": 105,
   "id": "30a05344",
   "metadata": {
    "scrolled": true
   },
   "outputs": [
    {
     "name": "stdout",
     "output_type": "stream",
     "text": [
      "\n",
      "\n",
      "\u001b[1m> Entering new SQLDatabaseChain chain...\u001b[0m\n",
      "How much is the price of the inventory for all small size t-shirts?\n",
      "SQLQuery:\u001b[32;1m\u001b[1;3mQuestion: How much is the price of the inventory for all small size t-shirts?\n",
      "SQLQuery: \n",
      "SELECT SUM(`price` * `stock_quantity`) AS total_price \n",
      "FROM t_shirts \n",
      "WHERE `size` = 'S';\u001b[0m\n",
      "SQLResult: \u001b[33;1m\u001b[1;3m[(Decimal('16713'),)]\u001b[0m\n",
      "Answer:\u001b[32;1m\u001b[1;3mQuestion: How much is the price of the inventory for all small size t-shirts?\n",
      "SQLQuery: SELECT SUM(`price` * `stock_quantity`) AS total_price \n",
      "FROM t_shirts \n",
      "WHERE `size` = 'S';\u001b[0m\n",
      "\u001b[1m> Finished chain.\u001b[0m\n"
     ]
    },
    {
     "data": {
      "text/plain": [
       "{'query': 'How much is the price of the inventory for all small size t-shirts?',\n",
       " 'result': \"Question: How much is the price of the inventory for all small size t-shirts?\\nSQLQuery: SELECT SUM(`price` * `stock_quantity`) AS total_price \\nFROM t_shirts \\nWHERE `size` = 'S';\"}"
      ]
     },
     "execution_count": 105,
     "metadata": {},
     "output_type": "execute_result"
    }
   ],
   "source": [
    "new_chain(\"How much is the price of the inventory for all small size t-shirts?\")"
   ]
  },
  {
   "cell_type": "code",
   "execution_count": null,
   "id": "d38d4cc9",
   "metadata": {},
   "outputs": [],
   "source": [
    "new_chain(\"How much is the price of all white color levi t shirts?\")"
   ]
  },
  {
   "cell_type": "code",
   "execution_count": null,
   "id": "510f8e47",
   "metadata": {},
   "outputs": [],
   "source": [
    "new_chain(\"If we have to sell all the Nike’s T-shirts today with discounts applied. How much revenue  our store will generate (post discounts)?\")"
   ]
  },
  {
   "cell_type": "code",
   "execution_count": null,
   "id": "3188a887",
   "metadata": {},
   "outputs": [],
   "source": [
    "new_chain(\"If we have to sell all the Van Heuson T-shirts today with discounts applied. How much revenue  our store will generate (post discounts)?\")"
   ]
  },
  {
   "cell_type": "code",
   "execution_count": null,
   "id": "9b10fd4d",
   "metadata": {},
   "outputs": [],
   "source": [
    "new_chain.run('How much revenue  our store will generate by selling all Van Heuson TShirts without discount?')"
   ]
  }
 ],
 "metadata": {
  "kernelspec": {
   "display_name": "Python 3 (ipykernel)",
   "language": "python",
   "name": "python3"
  },
  "language_info": {
   "codemirror_mode": {
    "name": "ipython",
    "version": 3
   },
   "file_extension": ".py",
   "mimetype": "text/x-python",
   "name": "python",
   "nbconvert_exporter": "python",
   "pygments_lexer": "ipython3",
   "version": "3.9.15"
  }
 },
 "nbformat": 4,
 "nbformat_minor": 5
}

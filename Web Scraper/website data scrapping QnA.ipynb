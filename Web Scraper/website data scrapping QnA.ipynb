{
 "cells": [
  {
   "cell_type": "raw",
   "id": "591ffb81-581c-4bcf-bd9e-4b23f94c860e",
   "metadata": {},
   "source": [
    "Load the Text"
   ]
  },
  {
   "cell_type": "code",
   "execution_count": 2,
   "id": "67740f12-c1f9-433d-93df-1d87de5cb47a",
   "metadata": {},
   "outputs": [],
   "source": [
    "from langchain.document_loaders import TextLoader\n",
    "\n",
    "loader = TextLoader(\"./data/data.txt\")\n",
    "d = loader.load()\n",
    "from langchain_ollama.llms import OllamaLLM"
   ]
  },
  {
   "cell_type": "raw",
   "id": "954ad4dd-ea5d-4e9f-813b-7d5fbdd7f902",
   "metadata": {},
   "source": [
    "Load CSV Data"
   ]
  },
  {
   "cell_type": "code",
   "execution_count": 3,
   "id": "c22a02b1-db85-4385-b956-0835a3956ca3",
   "metadata": {},
   "outputs": [],
   "source": [
    "from langchain.document_loaders.csv_loader import CSVLoader\n",
    "# loader = CSVLoader(file_path=\"movies.csv\")\n",
    "# data = loader.load()\n",
    "# data"
   ]
  },
  {
   "cell_type": "code",
   "execution_count": 4,
   "id": "e68427d5-0de7-4495-99a2-6886db2daed2",
   "metadata": {},
   "outputs": [],
   "source": [
    "# pip3 install unstructured libmagic python-magic python-magic-bin\n",
    "from langchain.document_loaders import UnstructuredURLLoader"
   ]
  },
  {
   "cell_type": "code",
   "execution_count": 5,
   "id": "acfceca1-d4e7-4c68-96d5-b12a4df584ac",
   "metadata": {},
   "outputs": [
    {
     "name": "stderr",
     "output_type": "stream",
     "text": [
      "USER_AGENT environment variable not set, consider setting it to identify your requests.\n"
     ]
    }
   ],
   "source": [
    "from langchain_community.document_loaders import WebBaseLoader\n",
    "\n",
    "# loader = WebBaseLoader(\n",
    "#        [\n",
    "#         \"https://sslwireless.com/our-company/\",\n",
    "#         \"https://sslwireless.com/our-milestones/\"\n",
    "#     ])\n",
    "# data = loader.load()\n"
   ]
  },
  {
   "cell_type": "code",
   "execution_count": 6,
   "id": "ba91fd0f-68a8-4e7a-8e2f-34f12b47b838",
   "metadata": {},
   "outputs": [],
   "source": [
    "loader = UnstructuredURLLoader(\n",
    "    urls = [\n",
    "        \"https://sslwireless.com/our-company/\",\n",
    "        \"https://sslwireless.com/our-milestones/\"\n",
    "    ]\n",
    ")\n",
    "data = loader.load()"
   ]
  },
  {
   "cell_type": "code",
   "execution_count": 7,
   "id": "84f6bbd3-0c4b-4484-9fed-95ecb86900ff",
   "metadata": {},
   "outputs": [],
   "source": [
    "#data[0].page_content\n",
    "text = \"\"\n",
    "for t in data:\n",
    "    text = text + t.page_content"
   ]
  },
  {
   "cell_type": "code",
   "execution_count": 8,
   "id": "bc2b3724-0f53-4d51-8ccb-ddec00f206c5",
   "metadata": {},
   "outputs": [],
   "source": [
    "from langchain.text_splitter import CharacterTextSplitter\n",
    "\n",
    "splitter = CharacterTextSplitter(\n",
    "    separator = \"\\n\",\n",
    "    chunk_size=200,\n",
    "    chunk_overlap=0\n",
    ")\n",
    "# splitter.split_text(text)"
   ]
  },
  {
   "cell_type": "code",
   "execution_count": 9,
   "id": "616afd96-4558-48b6-a923-5ec31bfff8fc",
   "metadata": {},
   "outputs": [
    {
     "data": {
      "text/plain": [
       "Document(metadata={'source': 'https://sslwireless.com/our-company/'}, page_content='About us\\n\\nSSL Wireless is recognized for its rapid development and efficient project execution by working with industry-standard technologies.')"
      ]
     },
     "execution_count": 9,
     "metadata": {},
     "output_type": "execute_result"
    }
   ],
   "source": [
    "from langchain.text_splitter import RecursiveCharacterTextSplitter\n",
    "\n",
    "r_splitter = RecursiveCharacterTextSplitter(\n",
    "    separators = [\"\\n\\n\", \"\\n\", \" \"],  # List of separators based on requirement (defaults to [\"\\n\\n\", \"\\n\", \" \"])\n",
    "    chunk_size = 200,  # size of each chunk created\n",
    "    chunk_overlap  = 0,  # size of  overlap between chunks in order to maintain the context\n",
    "    length_function = len  # Function to calculate size, currently we are using \"len\" which denotes length of string however you can pass any token counter)\n",
    ")\n",
    "\n",
    "chunks = r_splitter.split_documents(data)\n",
    "\n",
    "a = chunks[0]\n",
    "a"
   ]
  },
  {
   "cell_type": "code",
   "execution_count": 10,
   "id": "051bc551-2cd6-4f62-a608-481ab9ce15cf",
   "metadata": {},
   "outputs": [],
   "source": [
    "from langchain_community.document_loaders import PyPDFLoader\n",
    "\n",
    "loader = PyPDFLoader(\"./data/Anisur_Rahman_resume_2024.pdf\")\n",
    "\n",
    "d = loader.load()\n"
   ]
  },
  {
   "cell_type": "code",
   "execution_count": 25,
   "id": "9773005a-ed16-4ce3-8c22-f50db5b2b6a4",
   "metadata": {},
   "outputs": [
    {
     "name": "stdout",
     "output_type": "stream",
     "text": [
      "Base URL is : https://sslwireless.com/\n",
      "Total Links get:  24\n"
     ]
    }
   ],
   "source": [
    "links = get_all_links(\"https://sslwireless.com/\")\n",
    "loader = UnstructuredURLLoader(list(links))\n",
    "data = loader.load()\n",
    "text_splitter = RecursiveCharacterTextSplitter(\n",
    "        separators=['\\n\\n', '\\n', '.', ','],\n",
    "        chunk_size=1000\n",
    "    )\n",
    "docs = text_splitter.split_documents(data)\n"
   ]
  },
  {
   "cell_type": "code",
   "execution_count": 12,
   "id": "4c19e78e-6507-40e7-9664-fe0eace02780",
   "metadata": {},
   "outputs": [
    {
     "name": "stderr",
     "output_type": "stream",
     "text": [
      "/opt/anaconda3/envs/2024/lib/python3.10/site-packages/sentence_transformers/cross_encoder/CrossEncoder.py:13: TqdmWarning: IProgress not found. Please update jupyter and ipywidgets. See https://ipywidgets.readthedocs.io/en/stable/user_install.html\n",
      "  from tqdm.autonotebook import tqdm, trange\n",
      "/opt/anaconda3/envs/2024/lib/python3.10/site-packages/transformers/tokenization_utils_base.py:1617: FutureWarning: `clean_up_tokenization_spaces` was not set. It will be set to `True` by default. This behavior will be deprecated in transformers v4.45, and will be then set to `False` by default. For more details check this issue: https://github.com/huggingface/transformers/issues/31884\n",
      "  warnings.warn(\n"
     ]
    }
   ],
   "source": [
    "from langchain_huggingface import HuggingFaceEmbeddings\n",
    "# models = \"hkunlp/instructor-large\", sentence-transformers/all-MiniLM-L6-v2\n",
    "embeddings = HuggingFaceEmbeddings(model_name='sentence-transformers/all-MiniLM-L6-v2')"
   ]
  },
  {
   "cell_type": "code",
   "execution_count": 13,
   "id": "5f879ea0-91a0-450e-b1e5-474af80c2415",
   "metadata": {},
   "outputs": [],
   "source": [
    "from langchain_community.vectorstores import FAISS,Chroma\n",
    "#docs = [doc for doc in docs] \n",
    "vectorstore = FAISS.from_documents(docs, embeddings)\n",
    "#similar_docs = vectorstore.as_retriever().similarity_search(query, k=5)  # Adjust k as needed\n",
    "\n",
    "# query = \"E-Commerce Businesses\"\n",
    "# similar_docs = vectorstore.similarity_search(query=query, k=1)\n",
    "# similar_docs\n"
   ]
  },
  {
   "cell_type": "code",
   "execution_count": 18,
   "id": "6198639b-4bcf-49f0-a8ec-09cf4e9a0108",
   "metadata": {},
   "outputs": [],
   "source": [
    "from langchain_groq import ChatGroq\n",
    "from langchain.chat_models import ChatOpenAI\n",
    "llm = ChatGroq(\n",
    "        temperature=0,\n",
    "        groq_api_key=\"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\",\n",
    "        model_name=\"llama-3.1-70b-versatile\"\n",
    "    )\n",
    "model = \"llama3.1:8b\"\n",
    "open_ai_key = \"\"\n",
    "#llm = ChatOpenAI(model_name=\"gpt-4\", temperature=0,openai_api_key=open_ai_key)\n",
    "\n",
    "#llm = OllamaLLM(model=model)"
   ]
  },
  {
   "cell_type": "code",
   "execution_count": 15,
   "id": "d95e3934-6d9f-43c5-ba84-6d8daff7da6b",
   "metadata": {},
   "outputs": [],
   "source": [
    "#llm.invoke(\"what is ai?\")"
   ]
  },
  {
   "cell_type": "code",
   "execution_count": 26,
   "id": "84d60efb-0afb-4421-bce0-e9783f6709de",
   "metadata": {},
   "outputs": [
    {
     "name": "stdout",
     "output_type": "stream",
     "text": [
      "{'answer': 'SSL Wireless is a software development and services company that has been working in the industry for over a decade. They have experience in providing scalable IT solutions, particularly in the Value-Added Services, Banking, Corporate, and FinTech industries of Bangladesh. They have also worked with various international corporations such as Visa, MasterCard, and AWS, and have developed and deployed a Digital Wallet platform called FastPay. Additionally, they have helped launch Mobile VAS and SMS Banking in Bangladesh, which has transformed into mobile financial services today.\\n\\n', 'sources': ''}\n"
     ]
    }
   ],
   "source": [
    "from langchain.chains import RetrievalQAWithSourcesChain\n",
    "\n",
    "chain = RetrievalQAWithSourcesChain.from_llm(llm=llm, retriever=vectorstore.as_retriever())\n",
    "try:\n",
    "    query = \"Tell me something about SSL wireless\"\n",
    "    result = chain.invoke(query,return_only_outputs=True)\n",
    "    print(result)\n",
    "    # r = chain.invoke(\"hi\")\n",
    "    # r\n",
    "except Exception as e:\n",
    "    print(e)"
   ]
  },
  {
   "cell_type": "code",
   "execution_count": 17,
   "id": "2af5a5be-99d0-43e3-b894-ef4283b13664",
   "metadata": {},
   "outputs": [
    {
     "name": "stderr",
     "output_type": "stream",
     "text": [
      "/var/folders/y2/pbbl1rcd3kj9crfctyw4fgy80000gn/T/ipykernel_78226/2567600204.py:17: LangChainDeprecationWarning: The class `LLMChain` was deprecated in LangChain 0.1.17 and will be removed in 1.0. Use :meth:`~RunnableSequence, e.g., `prompt | llm`` instead.\n",
      "  llm_chain = LLMChain(llm=llm, prompt=prompt_template)\n",
      "/var/folders/y2/pbbl1rcd3kj9crfctyw4fgy80000gn/T/ipykernel_78226/2567600204.py:19: LangChainDeprecationWarning: The method `Chain.run` was deprecated in langchain 0.1.0 and will be removed in 1.0. Use :meth:`~invoke` instead.\n",
      "  response = llm_chain.run(context=combined_context, question=query)\n"
     ]
    },
    {
     "data": {
      "text/plain": [
       "'The payment gateway name of SSL Wireless is SSLCOMMERZ.'"
      ]
     },
     "execution_count": 17,
     "metadata": {},
     "output_type": "execute_result"
    }
   ],
   "source": [
    "from langchain.prompts import PromptTemplate\n",
    "from langchain.chains import LLMChain\n",
    "\n",
    "query = \"What is the payment gateway name of the sslwareless?\"\n",
    "\n",
    "retrieved_docs = vectorstore.similarity_search(query, k=5)\n",
    "\n",
    "prompt_template = PromptTemplate(\n",
    "    input_variables=[\"context\", \"question\"],\n",
    "    template=\"Using the following information, please answer the question:\\n\\n{context}\\n\\nQuestion: {question}\\nAnswer: if don't get any answer return 'I don't know'\"\n",
    ")\n",
    "\n",
    "combined_context = \"\\n\\n\".join([doc.page_content for doc in retrieved_docs])\n",
    "\n",
    "formatted_prompt = prompt_template.format(context=combined_context, question=query)\n",
    "\n",
    "llm_chain = LLMChain(llm=llm, prompt=prompt_template)\n",
    "\n",
    "response = llm_chain.run(context=combined_context, question=query)\n",
    "response\n"
   ]
  },
  {
   "cell_type": "code",
   "execution_count": 22,
   "id": "65b19cac-bb82-45c0-a641-8e65fdc1bab6",
   "metadata": {},
   "outputs": [],
   "source": [
    "import requests\n",
    "from bs4 import BeautifulSoup\n",
    "def get_all_links(base_url):\n",
    "    print(f\"Base URL is : {base_url}\")\n",
    "    try:\n",
    "        response = requests.get(base_url)\n",
    "        response.raise_for_status()  # Check for HTTP errors\n",
    "        soup = BeautifulSoup(response.content, 'html.parser')\n",
    "        links = set()\n",
    "\n",
    "        for a_tag in soup.find_all('a', href=True):\n",
    "            link = a_tag['href']\n",
    "            # Ensure the link is a full URL\n",
    "            if link.startswith('/'):\n",
    "                link = base_url + link\n",
    "            elif not link.startswith('http'):\n",
    "                continue\n",
    "            links.add(link)\n",
    "        print(f\"Total Links get:  {len(links)}\")\n",
    "        return links\n",
    "    except Exception as e:\n",
    "        print(f\"Error fetching {base_url}: {e}\")\n",
    "        return set()"
   ]
  }
 ],
 "metadata": {
  "kernelspec": {
   "display_name": "Python 3 (ipykernel)",
   "language": "python",
   "name": "python3"
  },
  "language_info": {
   "codemirror_mode": {
    "name": "ipython",
    "version": 3
   },
   "file_extension": ".py",
   "mimetype": "text/x-python",
   "name": "python",
   "nbconvert_exporter": "python",
   "pygments_lexer": "ipython3",
   "version": "3.10.13"
  }
 },
 "nbformat": 4,
 "nbformat_minor": 5
}

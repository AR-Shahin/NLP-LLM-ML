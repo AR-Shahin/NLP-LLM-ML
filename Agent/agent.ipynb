{
 "cells": [
  {
   "cell_type": "code",
   "execution_count": 67,
   "metadata": {},
   "outputs": [
    {
     "name": "stderr",
     "output_type": "stream",
     "text": [
      "/var/folders/y2/pbbl1rcd3kj9crfctyw4fgy80000gn/T/ipykernel_96041/4237116528.py:13: LangChainDeprecationWarning: Please see the migration guide at: https://python.langchain.com/docs/versions/migrating_memory/\n",
      "  memory = ConversationBufferMemory()\n"
     ]
    }
   ],
   "source": [
    "from langchain.tools import Tool\n",
    "from langchain_openai import ChatOpenAI \n",
    "from langchain.agents import initialize_agent, Tool\n",
    "from langchain.agents import AgentType\n",
    "from langchain.memory import ConversationBufferMemory\n",
    "\n",
    "import os\n",
    "from dotenv import load_dotenv\n",
    "\n",
    "load_dotenv()\n",
    "\n",
    "llm = ChatOpenAI(temperature=0,api_key=os.getenv(\"OPEN_AI_KEY\"))\n",
    "memory = ConversationBufferMemory()"
   ]
  },
  {
   "cell_type": "code",
   "execution_count": 35,
   "metadata": {},
   "outputs": [],
   "source": [
    "def search_web(query):\n",
    "    return f'You have searched {query}'\n",
    "\n",
    "def calculate(equation: str) -> float:\n",
    "    return eval(equation)"
   ]
  },
  {
   "cell_type": "code",
   "execution_count": 36,
   "metadata": {},
   "outputs": [],
   "source": [
    "web_search_tool = Tool(\n",
    "    name=\"WebSearch\",\n",
    "    func=search_web,\n",
    "    description=\"Search the web for information.\"\n",
    ")\n",
    "calculator_tool = Tool(\n",
    "    name=\"Calculator\",\n",
    "    func=calculate,\n",
    "    description=\"Perform math calculations.\"\n",
    ")\n",
    "\n"
   ]
  },
  {
   "cell_type": "code",
   "execution_count": 50,
   "metadata": {},
   "outputs": [],
   "source": [
    "# Define your tools (as before)\n",
    "tools = [calculator_tool]\n",
    "\n",
    "# Initialize the agent\n",
    "agent = initialize_agent(tools, \n",
    "                         llm,\n",
    "                         agent_type=AgentType.ZERO_SHOT_REACT_DESCRIPTION,\n",
    "                         memory=memory,\n",
    "                         verbose=True\n",
    ")"
   ]
  },
  {
   "cell_type": "code",
   "execution_count": 71,
   "metadata": {},
   "outputs": [
    {
     "name": "stdout",
     "output_type": "stream",
     "text": [
      "\n",
      "\n",
      "\u001b[1m> Entering new AgentExecutor chain...\u001b[0m\n",
      "chat_memory=InMemoryChatMessageHistory(messages=[])\n"
     ]
    }
   ],
   "source": [
    "# Use the agent\n",
    "query = \"What is her husband name?\"\n",
    "try:\n",
    "    response = agent.invoke(query)\n",
    "except Exception as e:\n",
    "    # Fallback to LLM when no tool is used\n",
    "    response = llm.invoke(query)\n",
    "print(memory)"
   ]
  }
 ],
 "metadata": {
  "kernelspec": {
   "display_name": "2024",
   "language": "python",
   "name": "python3"
  },
  "language_info": {
   "codemirror_mode": {
    "name": "ipython",
    "version": 3
   },
   "file_extension": ".py",
   "mimetype": "text/x-python",
   "name": "python",
   "nbconvert_exporter": "python",
   "pygments_lexer": "ipython3",
   "version": "3.10.13"
  }
 },
 "nbformat": 4,
 "nbformat_minor": 2
}

{
 "cells": [
  {
   "cell_type": "code",
   "execution_count": 7,
   "id": "d9034d79-fc1a-468e-8f53-03068a419de2",
   "metadata": {},
   "outputs": [
    {
     "name": "stdout",
     "output_type": "stream",
     "text": [
      "mailto:australpropetiesbd@gmail.com\n",
      "home\n",
      "home\n",
      "home\n",
      "#\n",
      "about-company\n",
      "chairman-message\n",
      "md-message\n",
      "#\n",
      "project?PT=1\n",
      "project?PT=2\n",
      "project?PT=3\n",
      "photo-gallery\n",
      "career\n",
      "contact\n",
      "query\n",
      "about-company\n",
      "project-details?I=9\n",
      "project-details?I=9\n",
      "project-details?I=8\n",
      "project-details?I=8\n",
      "project-details?I=7\n",
      "project-details?I=7\n",
      "project?PT=2\n",
      "project?PT=3\n",
      "project-details?I=1007\n",
      "project-details?I=1007\n",
      "project-details?I=1006\n",
      "project-details?I=1006\n",
      "project-details?I=1005\n",
      "project-details?I=1005\n",
      "project?PT=1\n",
      "#\n",
      "#\n",
      "#\n",
      "https://wa.me/8801799448808\n",
      "home\n",
      "about-company\n",
      "contact\n",
      "photo-gallery\n",
      "project?PT=1\n",
      "project?PT=2\n",
      "project?PT=3\n",
      "https://www.facebook.com\n",
      "https://www.instagram.com\n",
      "https://www.linkedin.com\n",
      "https://www.youtube.com\n",
      "['https://wa.me/8801799448808', 'https://www.youtube.com', 'https://www.linkedin.com', 'https://www.facebook.com', 'https://www.instagram.com']\n",
      "Total documents scraped: 5\n"
     ]
    }
   ],
   "source": [
    "import requests\n",
    "from bs4 import BeautifulSoup\n",
    "from langchain.document_loaders import UnstructuredURLLoader\n",
    "\n",
    "def get_all_links(base_url):\n",
    "    \"\"\"Fetch all links from the base_url.\"\"\"\n",
    "    try:\n",
    "        response = requests.get(base_url)\n",
    "        response.raise_for_status()  # Check for HTTP errors\n",
    "        soup = BeautifulSoup(response.content, 'html.parser')\n",
    "        links = set()\n",
    "\n",
    "        for a_tag in soup.find_all('a', href=True):\n",
    "            link = a_tag['href']\n",
    "            print(link)\n",
    "            # Ensure the link is a full URL\n",
    "            if link.startswith('/'):\n",
    "                print(link)\n",
    "                link = base_url + link\n",
    "            elif not link.startswith('http'):\n",
    "                continue\n",
    "            links.add(link)\n",
    "\n",
    "        return links\n",
    "    except Exception as e:\n",
    "        print(f\"Error fetching {base_url}: {e}\")\n",
    "        return set()\n",
    "\n",
    "def scrape_website(base_url):\n",
    "    \"\"\"Scrape the website starting from base_url.\"\"\"\n",
    "    all_links = get_all_links(base_url)\n",
    "    documents = []\n",
    "\n",
    "    for link in all_links:\n",
    "        try:\n",
    "            loader = UnstructuredURLLoader([link])\n",
    "            data = loader.load()\n",
    "            documents.extend(data)\n",
    "        except Exception as e:\n",
    "            print(f\"Error loading {link}: {e}\")\n",
    "\n",
    "    return documents\n",
    "\n",
    "# Usage\n",
    "main_domain = \"https://www.australproperties.com/\"  # Replace with your main domain\n",
    "\n",
    "all_documents = get_all_links(main_domain)\n",
    "\n",
    "print(list(all_documents))\n",
    "print(f\"Total documents scraped: {len(all_documents)}\")\n"
   ]
  },
  {
   "cell_type": "code",
   "execution_count": 8,
   "id": "cef95f71-5fb9-4ce8-b822-76e1df4ab55c",
   "metadata": {},
   "outputs": [
    {
     "data": {
      "text/plain": [
       "'Published in:\\n\\nSoftware Specialist/Senior Software Specialist (PHP)\\n\\nAuthor admin_wireless\\n\\nPublished on: September 14, 2024\\n\\nWe need Software Specialist/Senior Software Specialist (PHP) who have strong leadership skill & ability to set a clear goal with companies’ mission & vision.\\n\\nSoftware Specialist must know multiple numbers of Frameworks & CMS is mandatory including but not limited to Laravel, CakePHP, Symfony, etc., in addition, able to research and develop additional modules for different e-commerce CMS/frameworks and integrate for clients. Incumbents must have prior knowledge in development and integration with payment gateway & strong query knowledge in MySQL is mandatory, skills in SQL Server or Oracle or any other databases will be plus.\\n\\nHe/ She will be responsible to lead mid to large projects to ensure high-quality code and best outcomes, from scoping, testing, deploying, and ongoing maintenance. Incumbents need to work with product managers to understand client requirements and define product goals & participate in the product design and requirements analysis phase. Software Specialist must ensure the standard of web development practices are used for all web solutions and advise the technical team on improvement of the deployed solutions. He/ She should have a positive attitude to research and explore the latest and emerging backend technologies, frameworks, trends, and paradigms, introducing them to the Engineering team. Writing technical documentation, diagrams, database schema delegate tasks, and deadline will be a part of the responsibility.\\n\\nRequired Skills/Knowledge:\\n\\nWeb application development expertise in PHP, JavaScript\\n\\nWork with frontend developers to build site templates, access and store data, and provide AJAX/REST endpoints.\\n\\nKnowledge of front-end framework like Angular, React, Vue etc will be plus\\n\\nWorking knowledge of Web Services (e.g., JSON, RPC, REST, XML, SOAP, etc.)\\n\\nOptimize websites including SQL queries, code-refactoring, caching, CDNs etc.\\n\\nStrong Knowledge on Algorithm, Data Structure, Design patterns, OOP.\\n\\nExperience integrating third party APIs (Facebook, Twitter, LinkedIn, Google, Omniture)\\n\\nExtensive experience using version control (Git, Bitbucket)\\n\\nThorough understanding of HTTP request/response cycle\\n\\nAbility to meet tight deadlines and doesn’t take working as pressure but enjoys challenges and new opportunities.\\n\\nHave capabilities to gather Specifications/Requirements in a standard format.\\n\\nStrong organization skills to manage multiple timelines and complete tasks quickly within the constraints of clients’ timelines and budgets.\\n\\nAdditional Requirements\\n\\nMust be a team player and can get along with the co-workers.\\n\\nMust be punctual, well-groomed and have good manners.\\n\\nMust be able to prioritize tasks to finish the assigned projects within the given timeline.\\n\\nMust be innovative, easygoing, hardworking and compliant with business ethics.\\n\\nExperience & Academic Requirements\\n\\nMinimum Six (03) to Ten (05) Years of experience in PHP and web development in a Commercial Environment.\\n\\nBSC/MSC in CSE from reputed university.\\n\\nYour Remuneration and Other Benefits\\n\\nAttractive salary as per industry best practice.\\n\\nYearly salary review based on performance.\\n\\nTraining & Development Scopes.\\n\\nWeekly 2 holidays.\\n\\n2 festival bonuses (Yearly).\\n\\nWeekly medical consultancy.\\n\\nAnnual leave encashment.\\n\\nMedical coverage.\\n\\nCongenial & friendly working environment.\\n\\nDeadline\\n\\nSeptember 26, 2024\\n\\nJob Type: Full Time\\n\\nJob Location: Dhaka\\n\\nApply for this position\\n\\nShare On'"
      ]
     },
     "execution_count": 8,
     "metadata": {},
     "output_type": "execute_result"
    }
   ],
   "source": [
    "from langchain.document_loaders import UnstructuredURLLoader\n",
    "loader = UnstructuredURLLoader([\"https://sslwireless.com/jobs/software-specialist-software-specialist-php/\"])\n",
    "text = loader.load()[0]\n",
    "text.page_content"
   ]
  },
  {
   "cell_type": "code",
   "execution_count": null,
   "id": "3d94f439-18b6-4f55-b06b-1a33ed493039",
   "metadata": {},
   "outputs": [],
   "source": []
  }
 ],
 "metadata": {
  "kernelspec": {
   "display_name": "2024",
   "language": "python",
   "name": "python3"
  },
  "language_info": {
   "codemirror_mode": {
    "name": "ipython",
    "version": 3
   },
   "file_extension": ".py",
   "mimetype": "text/x-python",
   "name": "python",
   "nbconvert_exporter": "python",
   "pygments_lexer": "ipython3",
   "version": "3.10.13"
  }
 },
 "nbformat": 4,
 "nbformat_minor": 5
}

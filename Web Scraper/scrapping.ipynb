{
 "cells": [
  {
   "cell_type": "code",
   "execution_count": 1,
   "id": "d9034d79-fc1a-468e-8f53-03068a419de2",
   "metadata": {},
   "outputs": [
    {
     "name": "stdout",
     "output_type": "stream",
     "text": [
      "['https://sslwireless.com/enterprise-solutions/', 'https://sslwireless.com/it-security-2/', 'https://sslwireless.com//contact-us/', 'https://sslwireless.com//entertainment-vas/', 'https://sslwireless.com/marketing-promotion/', 'https://sslwireless.com/our-company/', 'https://sslwireless.com//our-company/', 'https://sslwireless.com//privacy-policy/', 'https://sslwireless.com/', 'https://sslwireless.com/entertainment-vas/', 'https://sslwireless.com//contact-us', 'https://www.facebook.com/SSLWireless', 'https://sslwireless.com/application-developments/', 'https://sslwireless.com/our-certifications/', 'https://sslwireless.com/job-openings/', 'https://sslwireless.com/research/', 'https://sslwireless.com//our-milestones/', 'https://sslwireless.com/news-events/', 'https://sslwireless.com/solutions-platforms-and-tools/', 'https://sslwireless.com/our-milestones/', 'https://www.linkedin.com/company/ssl-wireless', 'https://www.youtube.com/user/sslvtube', 'https://sslwireless.com/payment-services/', 'https://sslwireless.com/banking-financial-services/']\n",
      "Total documents scraped: 24\n"
     ]
    }
   ],
   "source": [
    "import requests\n",
    "from bs4 import BeautifulSoup\n",
    "from langchain.document_loaders import UnstructuredURLLoader\n",
    "\n",
    "def get_all_links(base_url):\n",
    "    \"\"\"Fetch all links from the base_url.\"\"\"\n",
    "    try:\n",
    "        response = requests.get(base_url)\n",
    "        response.raise_for_status()  # Check for HTTP errors\n",
    "        soup = BeautifulSoup(response.content, 'html.parser')\n",
    "        links = set()\n",
    "\n",
    "        for a_tag in soup.find_all('a', href=True):\n",
    "            link = a_tag['href']\n",
    "            # Ensure the link is a full URL\n",
    "            if link.startswith('/'):\n",
    "                link = base_url + link\n",
    "            elif not link.startswith('http'):\n",
    "                continue\n",
    "            links.add(link)\n",
    "\n",
    "        return links\n",
    "    except Exception as e:\n",
    "        print(f\"Error fetching {base_url}: {e}\")\n",
    "        return set()\n",
    "\n",
    "def scrape_website(base_url):\n",
    "    \"\"\"Scrape the website starting from base_url.\"\"\"\n",
    "    all_links = get_all_links(base_url)\n",
    "    documents = []\n",
    "\n",
    "    for link in all_links:\n",
    "        try:\n",
    "            loader = UnstructuredURLLoader([link])\n",
    "            data = loader.load()\n",
    "            documents.extend(data)\n",
    "        except Exception as e:\n",
    "            print(f\"Error loading {link}: {e}\")\n",
    "\n",
    "    return documents\n",
    "\n",
    "# Usage\n",
    "main_domain = \"https://sslwireless.com/\"  # Replace with your main domain\n",
    "all_documents = get_all_links(main_domain)\n",
    "\n",
    "print(list(all_documents))\n",
    "print(f\"Total documents scraped: {len(all_documents)}\")\n"
   ]
  },
  {
   "cell_type": "code",
   "execution_count": null,
   "id": "cef95f71-5fb9-4ce8-b822-76e1df4ab55c",
   "metadata": {},
   "outputs": [],
   "source": []
  }
 ],
 "metadata": {
  "kernelspec": {
   "display_name": "Python 3 (ipykernel)",
   "language": "python",
   "name": "python3"
  },
  "language_info": {
   "codemirror_mode": {
    "name": "ipython",
    "version": 3
   },
   "file_extension": ".py",
   "mimetype": "text/x-python",
   "name": "python",
   "nbconvert_exporter": "python",
   "pygments_lexer": "ipython3",
   "version": "3.10.13"
  }
 },
 "nbformat": 4,
 "nbformat_minor": 5
}

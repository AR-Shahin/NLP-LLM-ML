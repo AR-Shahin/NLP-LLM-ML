{
 "cells": [
  {
   "cell_type": "code",
   "execution_count": 11,
   "metadata": {},
   "outputs": [],
   "source": [
    "from langchain_openai import ChatOpenAI\n",
    "from langchain.prompts import PromptTemplate\n",
    "from langchain.chains import LLMChain,ConversationChain\n",
    "from langchain.memory import ConversationBufferMemory,ConversationBufferWindowMemory\n",
    "import os\n",
    "from langchain_core.runnables.history import RunnableWithMessageHistory \n",
    "\n"
   ]
  },
  {
   "cell_type": "markdown",
   "metadata": {},
   "source": [
    "## ConversationBufferMemory : It memorize all conversations\n",
    "when use memory have to use *ConversationChain* : it memorize 10 to 20 convo"
   ]
  },
  {
   "cell_type": "code",
   "execution_count": 17,
   "metadata": {},
   "outputs": [
    {
     "name": "stdout",
     "output_type": "stream",
     "text": [
      "Sheikh Hasina is the current Prime Minister of Bangladesh, as of my last update. She was born on September 28, 1947, and is the longest-serving prime minister in the history of Bangladesh. She is the daughter of Sheikh Mujibur Rahman, the founding father of Bangladesh. Sheikh Hasina is the leader of the Bangladesh Awami League, a major political party in Bangladesh. She first served as Prime Minister from 1996 to 2001, and then again from 2009 to the present. Her political career has been marked by a focus on economic growth and development, but also by controversy and allegations of corruption.\n"
     ]
    }
   ],
   "source": [
    "llm = ChatOpenAI(\n",
    "    model_name=\"gpt-4\",\n",
    "    openai_api_key=os.getenv(\"OPENAI_API_KEY\"),\n",
    "    temperature= 0.3,\n",
    "    max_tokens=150\n",
    "\n",
    ")\n",
    "\n",
    "quesiton = \"Who is the sheikh hasina\"\n",
    "\n",
    "memory = ConversationBufferWindowMemory(memory_key=\"history\",k=1)  # \n",
    "# memory = ConversationBufferWindowMemory(k=10) \n",
    "\n",
    "prompt = PromptTemplate(\n",
    "    template= \"\"\"You are an assistent who knows everything. Answer the followring Question : {question}\"\"\",\n",
    "    input_variables=[\"question\"]\n",
    ").format(question = quesiton)\n",
    "\n",
    "\n",
    "\n",
    "chain = ConversationChain(llm=llm,memory=memory)\n",
    "\n",
    "\n",
    "print(chain.invoke(prompt)[\"response\"])"
   ]
  },
  {
   "cell_type": "code",
   "execution_count": null,
   "metadata": {},
   "outputs": [],
   "source": []
  },
  {
   "cell_type": "code",
   "execution_count": 6,
   "metadata": {},
   "outputs": [
    {
     "name": "stdout",
     "output_type": "stream",
     "text": [
      "Sure, here's a simple implementation of Breadth-First Search (BFS) in Python:\n",
      "\n",
      "```python\n",
      "from collections import deque\n",
      "\n",
      "def bfs(graph, root):\n",
      "    visited = set()\n",
      "    queue = deque([root])\n",
      "\n",
      "    while queue:\n",
      "        vertex = queue.popleft()\n",
      "        print(str(vertex) + \" \", end=\"\")\n",
      "\n",
      "        for neighbour in graph[vertex]:\n",
      "            if neighbour not in visited:\n",
      "                visited.add(neighbour)\n",
      "                queue.append(neighbour)\n",
      "\n",
      "# example usage:\n",
      "if __name__ == '__main__':\n",
      "    graph = {\n",
      "      'A' : ['B','C'],\n",
      "      'B' : ['D', 'E'],\n",
      "      'C' : ['F'],\n",
      "      'D' : [],\n",
      "      'E' :\n"
     ]
    }
   ],
   "source": [
    "print(chain.invoke(\"give me a python code of BFS\")[\"response\"])\n"
   ]
  },
  {
   "cell_type": "code",
   "execution_count": 7,
   "metadata": {},
   "outputs": [
    {
     "name": "stdout",
     "output_type": "stream",
     "text": [
      "I'm sorry, but your question is not clear. Could you please provide more context or clarify who you're referring to?\n"
     ]
    }
   ],
   "source": [
    "print(chain.invoke(\"How many children of her?\")[\"response\"])"
   ]
  },
  {
   "cell_type": "code",
   "execution_count": 67,
   "metadata": {},
   "outputs": [
    {
     "name": "stdout",
     "output_type": "stream",
     "text": [
      "Sure, here is the equivalent Breadth-First Search (BFS) code in C++:\n",
      "\n",
      "```cpp\n",
      "#include<bits/stdc++.h>\n",
      "using namespace std;\n",
      "\n",
      "void bfs(int start, vector<int> adj[], bool visited[]) {\n",
      "    queue<int> q;\n",
      "\n",
      "    visited[start] = true;\n",
      "    q.push(start);\n",
      "\n",
      "    while(!q.empty()) {\n",
      "        int node = q.front();\n",
      "        cout << node << \" \";\n",
      "        q.pop();\n",
      "\n",
      "        for(int i = 0; i < adj[node].size(); i++) {\n",
      "            if(visited[adj[node][i]] == false) {\n",
      "                q.push(adj[node][i]);\n",
      "                visited[adj[node][i]] = true;\n",
      "            }\n",
      "        }\n",
      "    }\n",
      "}\n",
      "\n",
      "int main\n"
     ]
    }
   ],
   "source": [
    "print(chain.invoke(\"change it to c++\")[\"response\"])"
   ]
  },
  {
   "cell_type": "code",
   "execution_count": 68,
   "metadata": {},
   "outputs": [
    {
     "name": "stdout",
     "output_type": "stream",
     "text": [
      "You asked me about Sheikh Hasina, the Prime Minister of Bangladesh.\n"
     ]
    }
   ],
   "source": [
    "print(chain.invoke(\"tell me which name I ask you?\")[\"response\"])"
   ]
  },
  {
   "cell_type": "code",
   "execution_count": 4,
   "metadata": {},
   "outputs": [
    {
     "name": "stdout",
     "output_type": "stream",
     "text": [
      "As an artificial intelligence, I don't have the ability to remember conversations in the way humans do. I don't store personal data unless explicitly provided for the purpose of the conversation. My primary function is to provide information and answer questions to the best of my knowledge and abilities. If you have any concerns about privacy or data security, rest assured that maintaining your privacy is a top priority for me.\n"
     ]
    }
   ],
   "source": [
    "print(chain.invoke(\"How many conversation do you remember?\")[\"response\"])"
   ]
  }
 ],
 "metadata": {
  "kernelspec": {
   "display_name": "2024",
   "language": "python",
   "name": "python3"
  },
  "language_info": {
   "codemirror_mode": {
    "name": "ipython",
    "version": 3
   },
   "file_extension": ".py",
   "mimetype": "text/x-python",
   "name": "python",
   "nbconvert_exporter": "python",
   "pygments_lexer": "ipython3",
   "version": "3.10.13"
  }
 },
 "nbformat": 4,
 "nbformat_minor": 2
}

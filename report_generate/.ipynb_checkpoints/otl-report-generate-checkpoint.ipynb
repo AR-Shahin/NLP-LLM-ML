{
 "cells": [
  {
   "cell_type": "code",
   "execution_count": 7,
   "id": "3d6a0a31-85a8-409a-b7e1-83ffbc7a2922",
   "metadata": {},
   "outputs": [],
   "source": [
    "import os\n",
    "import numpy as np\n",
    "from langchain_ollama.llms import OllamaLLM\n"
   ]
  },
  {
   "cell_type": "code",
   "execution_count": 10,
   "id": "874ecbbe-327e-4402-bdb5-c4b179d3606b",
   "metadata": {},
   "outputs": [
    {
     "data": {
      "text/plain": [
       "OllamaLLM(model='llama3:latest')"
      ]
     },
     "execution_count": 10,
     "metadata": {},
     "output_type": "execute_result"
    }
   ],
   "source": [
    "model = \"llama3:latest\"\n",
    "llm = OllamaLLM(model=model)"
   ]
  },
  {
   "cell_type": "code",
   "execution_count": null,
   "id": "43e55aeb-0b58-4116-8b57-7fc67f9870f3",
   "metadata": {},
   "outputs": [],
   "source": [
    "llm.invoke(\"hi\")"
   ]
  }
 ],
 "metadata": {
  "kernelspec": {
   "display_name": "Python 3 (ipykernel)",
   "language": "python",
   "name": "python3"
  },
  "language_info": {
   "codemirror_mode": {
    "name": "ipython",
    "version": 3
   },
   "file_extension": ".py",
   "mimetype": "text/x-python",
   "name": "python",
   "nbconvert_exporter": "python",
   "pygments_lexer": "ipython3",
   "version": "3.10.14"
  }
 },
 "nbformat": 4,
 "nbformat_minor": 5
}
